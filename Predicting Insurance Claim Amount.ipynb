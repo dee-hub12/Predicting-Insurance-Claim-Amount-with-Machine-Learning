{
 "cells": [
  {
   "cell_type": "markdown",
   "id": "ccc2d532",
   "metadata": {},
   "source": [
    "# Revolutionizing Insurance Claim Estimation with Machine Learning\n",
    "\n",
    "**Problem Statement:**\n",
    "\n",
    "In the era of data-driven decision-making, insurance companies strive to enhance their claim estimation process by leveraging the power of machine learning. The challenge at hand is to develop an innovative and robust machine learning model, that accurately predicts insurance claim amounts for individuals based on a comprehensive set of demographic and contextual factors. By effectively harnessing data on demographics (age, gender, BMI, blood pressure, and number of children), lifestyle habits (smoking status), geographical considerations (region), this model aims to revolutionize claim estimation, enabling insurance companies to streamline operations, optimize resource allocation, and provide fair compensation.\n",
    "\n",
    "**Data:**\n",
    "\n",
    "The dataset consists of 1,340 observations with the following variables:\n",
    "\n",
    "- age: Age of the insured individual (integer)\n",
    "- gender: Gender of the insured individual (categorical: male, female)\n",
    "- bmi: Body Mass Index (float)\n",
    "- children: Number of children the insured individual has (integer)\n",
    "- smoker: Smoking status of the insured individual (categorical: smoker, non-smoker)\n",
    "- region: Geographic region of the insured individual (categorical: northeast, southeast, southwest, northwest)\n",
    "- claim: Actual insurance claim amount (float)\n",
    "\n",
    "**Approach**\n",
    "\n",
    "We will incoporate the The OSEMN approach which is a popular framework used in data science and data analysis projects. It provides a systematic and structured workflow to guide the process of working with data from start to finish. OSEMN stands for Obtain, Scrub, Explore, Model, and iNterpret, representing the key stages involved in a typical data science project.\n",
    "\n",
    "- **Obtain:** We will acquire the insurance claim dataset containing information on demographics, contextual factors, and claim amounts. Understand the data sources, formats, and any potential limitations or biases in the dataset. Load the dataset into jupyter notebook for analysis\n",
    "\n",
    "- **Scrub:** Perform data cleaning tasks, including handling missing values, correcting inconsistent entries, and addressing outliers. Validate the integrity of the dataset and ensure it aligns with the project's requirements. Conduct exploratory data analysis (EDA) to gain insights into the distribution, correlations, and potential issues within the dataset.\n",
    "\n",
    "- **Explore:** Conduct a comprehensive analysis of the dataset, visualizing and summarizing the variables of interest. Identify patterns, trends, and relationships between demographic factors, contextual variables, and claim amounts. Perform statistical analyses, such as correlation analysis and hypothesis testing, to uncover significant associations.\n",
    "\n",
    "- **Modeling:** we will prepare the dataset for modeling by encoding categorical variables, normalizing numerical variables, and splitting it into training and testing sets. Select appropriate machine learning algorithms suited for predicting claim amounts, such as regression models (e.g., linear regression, random forest regression) or deep learning models. Train the selected models on the training set, tuning hyperparameters as needed to optimize performance. Evaluate the trained models using appropriate evaluation metrics, considering factors like mean squared error (MSE) or mean absolute error (MAE). Select the best-performing model based on evaluation results and its ability to generalize to unseen data.\n",
    "\n",
    "- **iNterpret:** Analyze the coefficients or feature importance of the chosen model to understand the impact of different variables on claim amounts. Interpret the model's predictions, identifying the demographic and contextual factors that significantly influence claim amounts. Validate the model's interpretations through domain knowledge and consultation with subject matter experts.\n"
   ]
  },
  {
   "cell_type": "markdown",
   "id": "e839453f",
   "metadata": {},
   "source": [
    "#### Importing-Libraries-and-Packages"
   ]
  },
  {
   "cell_type": "code",
   "execution_count": 1,
   "id": "fbe82dfd",
   "metadata": {},
   "outputs": [],
   "source": [
    "import pandas as pd\n",
    "import numpy as np\n",
    "import matplotlib.pyplot as plt\n",
    "import seaborn as sns\n",
    "\n",
    "from scipy import stats, optimize, interpolate\n",
    "from sklearn.model_selection import train_test_split\n",
    "from sklearn.preprocessing import MinMaxScaler, StandardScaler, LabelEncoder\n",
    "from xgboost import XGBClassifier\n",
    "from sklearn.linear_model import LogisticRegression\n",
    "from sklearn.ensemble import RandomForestClassifier\n",
    "from sklearn.model_selection import cross_validate, StratifiedKFold, KFold, cross_val_score, RandomizedSearchCV, GridSearchCV\n",
    "from sklearn.neighbors import KNeighborsClassifier\n",
    "import pickle\n",
    "\n",
    "import warnings\n",
    "warnings.filterwarnings('ignore')"
   ]
  },
  {
   "cell_type": "markdown",
   "id": "e8cf7830",
   "metadata": {},
   "source": [
    "## Obtain\n",
    "In this stage, the focus is on acquiring the necessary data for analysis. This involves identifying relevant data sources, collecting or accessing the data, and loading it into a suitable data analysis environment. Understanding the data sources and any potential limitations or biases is crucial at this stage."
   ]
  },
  {
   "cell_type": "code",
   "execution_count": 2,
   "id": "660f7015",
   "metadata": {},
   "outputs": [
    {
     "data": {
      "text/html": [
       "<div>\n",
       "<style scoped>\n",
       "    .dataframe tbody tr th:only-of-type {\n",
       "        vertical-align: middle;\n",
       "    }\n",
       "\n",
       "    .dataframe tbody tr th {\n",
       "        vertical-align: top;\n",
       "    }\n",
       "\n",
       "    .dataframe thead th {\n",
       "        text-align: right;\n",
       "    }\n",
       "</style>\n",
       "<table border=\"1\" class=\"dataframe\">\n",
       "  <thead>\n",
       "    <tr style=\"text-align: right;\">\n",
       "      <th></th>\n",
       "      <th>index</th>\n",
       "      <th>PatientID</th>\n",
       "      <th>age</th>\n",
       "      <th>gender</th>\n",
       "      <th>bmi</th>\n",
       "      <th>bloodpressure</th>\n",
       "      <th>diabetic</th>\n",
       "      <th>children</th>\n",
       "      <th>smoker</th>\n",
       "      <th>region</th>\n",
       "      <th>claim</th>\n",
       "    </tr>\n",
       "  </thead>\n",
       "  <tbody>\n",
       "    <tr>\n",
       "      <th>0</th>\n",
       "      <td>0</td>\n",
       "      <td>1</td>\n",
       "      <td>39.0</td>\n",
       "      <td>male</td>\n",
       "      <td>23.2</td>\n",
       "      <td>91</td>\n",
       "      <td>Yes</td>\n",
       "      <td>0</td>\n",
       "      <td>No</td>\n",
       "      <td>southeast</td>\n",
       "      <td>1121.87</td>\n",
       "    </tr>\n",
       "    <tr>\n",
       "      <th>1</th>\n",
       "      <td>1</td>\n",
       "      <td>2</td>\n",
       "      <td>24.0</td>\n",
       "      <td>male</td>\n",
       "      <td>30.1</td>\n",
       "      <td>87</td>\n",
       "      <td>No</td>\n",
       "      <td>0</td>\n",
       "      <td>No</td>\n",
       "      <td>southeast</td>\n",
       "      <td>1131.51</td>\n",
       "    </tr>\n",
       "    <tr>\n",
       "      <th>2</th>\n",
       "      <td>2</td>\n",
       "      <td>3</td>\n",
       "      <td>NaN</td>\n",
       "      <td>male</td>\n",
       "      <td>33.3</td>\n",
       "      <td>82</td>\n",
       "      <td>Yes</td>\n",
       "      <td>0</td>\n",
       "      <td>No</td>\n",
       "      <td>southeast</td>\n",
       "      <td>1135.94</td>\n",
       "    </tr>\n",
       "    <tr>\n",
       "      <th>3</th>\n",
       "      <td>3</td>\n",
       "      <td>4</td>\n",
       "      <td>NaN</td>\n",
       "      <td>male</td>\n",
       "      <td>33.7</td>\n",
       "      <td>80</td>\n",
       "      <td>No</td>\n",
       "      <td>0</td>\n",
       "      <td>No</td>\n",
       "      <td>northwest</td>\n",
       "      <td>1136.40</td>\n",
       "    </tr>\n",
       "    <tr>\n",
       "      <th>4</th>\n",
       "      <td>4</td>\n",
       "      <td>5</td>\n",
       "      <td>NaN</td>\n",
       "      <td>male</td>\n",
       "      <td>34.1</td>\n",
       "      <td>100</td>\n",
       "      <td>No</td>\n",
       "      <td>0</td>\n",
       "      <td>No</td>\n",
       "      <td>northwest</td>\n",
       "      <td>1137.01</td>\n",
       "    </tr>\n",
       "  </tbody>\n",
       "</table>\n",
       "</div>"
      ],
      "text/plain": [
       "   index  PatientID   age gender   bmi  bloodpressure diabetic  children  \\\n",
       "0      0          1  39.0   male  23.2             91      Yes         0   \n",
       "1      1          2  24.0   male  30.1             87       No         0   \n",
       "2      2          3   NaN   male  33.3             82      Yes         0   \n",
       "3      3          4   NaN   male  33.7             80       No         0   \n",
       "4      4          5   NaN   male  34.1            100       No         0   \n",
       "\n",
       "  smoker     region    claim  \n",
       "0     No  southeast  1121.87  \n",
       "1     No  southeast  1131.51  \n",
       "2     No  southeast  1135.94  \n",
       "3     No  northwest  1136.40  \n",
       "4     No  northwest  1137.01  "
      ]
     },
     "execution_count": 2,
     "metadata": {},
     "output_type": "execute_result"
    }
   ],
   "source": [
    "# Load the csv data file into a pandas DataFrame\n",
    "file_path = 'insurance_data.csv'\n",
    "df = pd.read_csv(file_path)\n",
    "# Display the first few rows of the DataFrame\n",
    "df.head()"
   ]
  },
  {
   "cell_type": "markdown",
   "id": "bf1a94fa",
   "metadata": {},
   "source": [
    "## Scrub\n",
    "In the scrub stage, the emphasis is on data cleaning and preparation. This involves addressing missing values, handling outliers, correcting inconsistencies, and ensuring data integrity. Data cleaning tasks aim to create a high-quality dataset suitable for analysis, modeling, and interpretation."
   ]
  },
  {
   "cell_type": "code",
   "execution_count": 3,
   "id": "55f29edc",
   "metadata": {},
   "outputs": [
    {
     "name": "stdout",
     "output_type": "stream",
     "text": [
      "There are 1340 rows and 11 columns in the dataset.\n"
     ]
    }
   ],
   "source": [
    "# Checking the the number of columns and rows of the data \n",
    "\n",
    "print(f\"There are {df.shape[0]} rows and {df.shape[1]} columns in the dataset.\")"
   ]
  },
  {
   "cell_type": "markdown",
   "id": "a374a20d",
   "metadata": {},
   "source": [
    "The data has 11 columns. The index column and default pandas index are the same. Hence index is dropped."
   ]
  },
  {
   "cell_type": "code",
   "execution_count": 4,
   "id": "35044fc1",
   "metadata": {},
   "outputs": [
    {
     "data": {
      "text/html": [
       "<div>\n",
       "<style scoped>\n",
       "    .dataframe tbody tr th:only-of-type {\n",
       "        vertical-align: middle;\n",
       "    }\n",
       "\n",
       "    .dataframe tbody tr th {\n",
       "        vertical-align: top;\n",
       "    }\n",
       "\n",
       "    .dataframe thead th {\n",
       "        text-align: right;\n",
       "    }\n",
       "</style>\n",
       "<table border=\"1\" class=\"dataframe\">\n",
       "  <thead>\n",
       "    <tr style=\"text-align: right;\">\n",
       "      <th></th>\n",
       "      <th>PatientID</th>\n",
       "      <th>age</th>\n",
       "      <th>gender</th>\n",
       "      <th>bmi</th>\n",
       "      <th>bloodpressure</th>\n",
       "      <th>diabetic</th>\n",
       "      <th>children</th>\n",
       "      <th>smoker</th>\n",
       "      <th>region</th>\n",
       "      <th>claim</th>\n",
       "    </tr>\n",
       "  </thead>\n",
       "  <tbody>\n",
       "    <tr>\n",
       "      <th>0</th>\n",
       "      <td>1</td>\n",
       "      <td>39.0</td>\n",
       "      <td>male</td>\n",
       "      <td>23.2</td>\n",
       "      <td>91</td>\n",
       "      <td>Yes</td>\n",
       "      <td>0</td>\n",
       "      <td>No</td>\n",
       "      <td>southeast</td>\n",
       "      <td>1121.87</td>\n",
       "    </tr>\n",
       "    <tr>\n",
       "      <th>1</th>\n",
       "      <td>2</td>\n",
       "      <td>24.0</td>\n",
       "      <td>male</td>\n",
       "      <td>30.1</td>\n",
       "      <td>87</td>\n",
       "      <td>No</td>\n",
       "      <td>0</td>\n",
       "      <td>No</td>\n",
       "      <td>southeast</td>\n",
       "      <td>1131.51</td>\n",
       "    </tr>\n",
       "    <tr>\n",
       "      <th>2</th>\n",
       "      <td>3</td>\n",
       "      <td>NaN</td>\n",
       "      <td>male</td>\n",
       "      <td>33.3</td>\n",
       "      <td>82</td>\n",
       "      <td>Yes</td>\n",
       "      <td>0</td>\n",
       "      <td>No</td>\n",
       "      <td>southeast</td>\n",
       "      <td>1135.94</td>\n",
       "    </tr>\n",
       "    <tr>\n",
       "      <th>3</th>\n",
       "      <td>4</td>\n",
       "      <td>NaN</td>\n",
       "      <td>male</td>\n",
       "      <td>33.7</td>\n",
       "      <td>80</td>\n",
       "      <td>No</td>\n",
       "      <td>0</td>\n",
       "      <td>No</td>\n",
       "      <td>northwest</td>\n",
       "      <td>1136.40</td>\n",
       "    </tr>\n",
       "    <tr>\n",
       "      <th>4</th>\n",
       "      <td>5</td>\n",
       "      <td>NaN</td>\n",
       "      <td>male</td>\n",
       "      <td>34.1</td>\n",
       "      <td>100</td>\n",
       "      <td>No</td>\n",
       "      <td>0</td>\n",
       "      <td>No</td>\n",
       "      <td>northwest</td>\n",
       "      <td>1137.01</td>\n",
       "    </tr>\n",
       "  </tbody>\n",
       "</table>\n",
       "</div>"
      ],
      "text/plain": [
       "   PatientID   age gender   bmi  bloodpressure diabetic  children smoker  \\\n",
       "0          1  39.0   male  23.2             91      Yes         0     No   \n",
       "1          2  24.0   male  30.1             87       No         0     No   \n",
       "2          3   NaN   male  33.3             82      Yes         0     No   \n",
       "3          4   NaN   male  33.7             80       No         0     No   \n",
       "4          5   NaN   male  34.1            100       No         0     No   \n",
       "\n",
       "      region    claim  \n",
       "0  southeast  1121.87  \n",
       "1  southeast  1131.51  \n",
       "2  southeast  1135.94  \n",
       "3  northwest  1136.40  \n",
       "4  northwest  1137.01  "
      ]
     },
     "execution_count": 4,
     "metadata": {},
     "output_type": "execute_result"
    }
   ],
   "source": [
    "# Drop index\n",
    "df.drop('index' ,inplace = True, axis = 1)\n",
    "df.head()"
   ]
  },
  {
   "cell_type": "code",
   "execution_count": 5,
   "id": "75c993a8",
   "metadata": {},
   "outputs": [
    {
     "name": "stdout",
     "output_type": "stream",
     "text": [
      "<class 'pandas.core.frame.DataFrame'>\n",
      "RangeIndex: 1340 entries, 0 to 1339\n",
      "Data columns (total 10 columns):\n",
      " #   Column         Non-Null Count  Dtype  \n",
      "---  ------         --------------  -----  \n",
      " 0   PatientID      1340 non-null   int64  \n",
      " 1   age            1335 non-null   float64\n",
      " 2   gender         1340 non-null   object \n",
      " 3   bmi            1340 non-null   float64\n",
      " 4   bloodpressure  1340 non-null   int64  \n",
      " 5   diabetic       1340 non-null   object \n",
      " 6   children       1340 non-null   int64  \n",
      " 7   smoker         1340 non-null   object \n",
      " 8   region         1337 non-null   object \n",
      " 9   claim          1340 non-null   float64\n",
      "dtypes: float64(3), int64(3), object(4)\n",
      "memory usage: 104.8+ KB\n"
     ]
    }
   ],
   "source": [
    "# Display basic information about the DataFrame\n",
    "df.info()"
   ]
  },
  {
   "cell_type": "code",
   "execution_count": 6,
   "id": "5fd0daed",
   "metadata": {},
   "outputs": [
    {
     "data": {
      "text/html": [
       "<div>\n",
       "<style scoped>\n",
       "    .dataframe tbody tr th:only-of-type {\n",
       "        vertical-align: middle;\n",
       "    }\n",
       "\n",
       "    .dataframe tbody tr th {\n",
       "        vertical-align: top;\n",
       "    }\n",
       "\n",
       "    .dataframe thead th {\n",
       "        text-align: right;\n",
       "    }\n",
       "</style>\n",
       "<table border=\"1\" class=\"dataframe\">\n",
       "  <thead>\n",
       "    <tr style=\"text-align: right;\">\n",
       "      <th></th>\n",
       "      <th>Num Missing Values</th>\n",
       "      <th>Pct Missing Values</th>\n",
       "    </tr>\n",
       "  </thead>\n",
       "  <tbody>\n",
       "    <tr>\n",
       "      <th>PatientID</th>\n",
       "      <td>0</td>\n",
       "      <td>0.00</td>\n",
       "    </tr>\n",
       "    <tr>\n",
       "      <th>age</th>\n",
       "      <td>5</td>\n",
       "      <td>0.37</td>\n",
       "    </tr>\n",
       "    <tr>\n",
       "      <th>gender</th>\n",
       "      <td>0</td>\n",
       "      <td>0.00</td>\n",
       "    </tr>\n",
       "    <tr>\n",
       "      <th>bmi</th>\n",
       "      <td>0</td>\n",
       "      <td>0.00</td>\n",
       "    </tr>\n",
       "    <tr>\n",
       "      <th>bloodpressure</th>\n",
       "      <td>0</td>\n",
       "      <td>0.00</td>\n",
       "    </tr>\n",
       "    <tr>\n",
       "      <th>diabetic</th>\n",
       "      <td>0</td>\n",
       "      <td>0.00</td>\n",
       "    </tr>\n",
       "    <tr>\n",
       "      <th>children</th>\n",
       "      <td>0</td>\n",
       "      <td>0.00</td>\n",
       "    </tr>\n",
       "    <tr>\n",
       "      <th>smoker</th>\n",
       "      <td>0</td>\n",
       "      <td>0.00</td>\n",
       "    </tr>\n",
       "    <tr>\n",
       "      <th>region</th>\n",
       "      <td>3</td>\n",
       "      <td>0.22</td>\n",
       "    </tr>\n",
       "    <tr>\n",
       "      <th>claim</th>\n",
       "      <td>0</td>\n",
       "      <td>0.00</td>\n",
       "    </tr>\n",
       "  </tbody>\n",
       "</table>\n",
       "</div>"
      ],
      "text/plain": [
       "               Num Missing Values  Pct Missing Values\n",
       "PatientID                       0                0.00\n",
       "age                             5                0.37\n",
       "gender                          0                0.00\n",
       "bmi                             0                0.00\n",
       "bloodpressure                   0                0.00\n",
       "diabetic                        0                0.00\n",
       "children                        0                0.00\n",
       "smoker                          0                0.00\n",
       "region                          3                0.22\n",
       "claim                           0                0.00"
      ]
     },
     "metadata": {},
     "output_type": "display_data"
    }
   ],
   "source": [
    "# Calculate the number and percentage of missing values for all columns\n",
    "missing_values_count = df.isnull().sum()\n",
    "missing_values_pct = round((missing_values_count / len(df)) * 100, 2)\n",
    "\n",
    "# Create a new DataFrame with the results\n",
    "result_df = pd.DataFrame({\n",
    "    'Num Missing Values': missing_values_count,\n",
    "    'Pct Missing Values': missing_values_pct\n",
    "})\n",
    "\n",
    "# Display the results\n",
    "display(result_df)"
   ]
  },
  {
   "cell_type": "markdown",
   "id": "55b1a677",
   "metadata": {},
   "source": [
    "There are insignificant number of missing in the age and region columns "
   ]
  },
  {
   "cell_type": "code",
   "execution_count": 7,
   "id": "ddfb6146",
   "metadata": {},
   "outputs": [],
   "source": [
    "df.dropna(axis = 0, inplace = True)"
   ]
  },
  {
   "cell_type": "markdown",
   "id": "2da9405a",
   "metadata": {},
   "source": [
    "Some data types are not in the correct format. Patient ID should be an object and age should be integer"
   ]
  },
  {
   "cell_type": "code",
   "execution_count": 8,
   "id": "f6fb165c",
   "metadata": {},
   "outputs": [],
   "source": [
    "#converting the patient ID and age column to the correct datatype \n",
    "df['PatientID'] = df['PatientID'].astype(object)\n",
    "df['age'] = df['age'].astype(int)"
   ]
  },
  {
   "cell_type": "code",
   "execution_count": 9,
   "id": "94bbeac0",
   "metadata": {},
   "outputs": [
    {
     "data": {
      "text/html": [
       "<div>\n",
       "<style scoped>\n",
       "    .dataframe tbody tr th:only-of-type {\n",
       "        vertical-align: middle;\n",
       "    }\n",
       "\n",
       "    .dataframe tbody tr th {\n",
       "        vertical-align: top;\n",
       "    }\n",
       "\n",
       "    .dataframe thead th {\n",
       "        text-align: right;\n",
       "    }\n",
       "</style>\n",
       "<table border=\"1\" class=\"dataframe\">\n",
       "  <thead>\n",
       "    <tr style=\"text-align: right;\">\n",
       "      <th></th>\n",
       "      <th>age</th>\n",
       "      <th>bmi</th>\n",
       "      <th>bloodpressure</th>\n",
       "      <th>children</th>\n",
       "      <th>claim</th>\n",
       "    </tr>\n",
       "  </thead>\n",
       "  <tbody>\n",
       "    <tr>\n",
       "      <th>count</th>\n",
       "      <td>1332.000000</td>\n",
       "      <td>1332.000000</td>\n",
       "      <td>1332.000000</td>\n",
       "      <td>1332.000000</td>\n",
       "      <td>1332.000000</td>\n",
       "    </tr>\n",
       "    <tr>\n",
       "      <th>mean</th>\n",
       "      <td>38.086336</td>\n",
       "      <td>30.658333</td>\n",
       "      <td>94.189189</td>\n",
       "      <td>1.099850</td>\n",
       "      <td>13325.246426</td>\n",
       "    </tr>\n",
       "    <tr>\n",
       "      <th>std</th>\n",
       "      <td>11.112804</td>\n",
       "      <td>6.118967</td>\n",
       "      <td>11.445173</td>\n",
       "      <td>1.205958</td>\n",
       "      <td>12109.620712</td>\n",
       "    </tr>\n",
       "    <tr>\n",
       "      <th>min</th>\n",
       "      <td>18.000000</td>\n",
       "      <td>16.000000</td>\n",
       "      <td>80.000000</td>\n",
       "      <td>0.000000</td>\n",
       "      <td>1121.870000</td>\n",
       "    </tr>\n",
       "    <tr>\n",
       "      <th>25%</th>\n",
       "      <td>29.000000</td>\n",
       "      <td>26.200000</td>\n",
       "      <td>86.000000</td>\n",
       "      <td>0.000000</td>\n",
       "      <td>4760.157500</td>\n",
       "    </tr>\n",
       "    <tr>\n",
       "      <th>50%</th>\n",
       "      <td>38.000000</td>\n",
       "      <td>30.350000</td>\n",
       "      <td>92.000000</td>\n",
       "      <td>1.000000</td>\n",
       "      <td>9412.965000</td>\n",
       "    </tr>\n",
       "    <tr>\n",
       "      <th>75%</th>\n",
       "      <td>47.000000</td>\n",
       "      <td>34.725000</td>\n",
       "      <td>99.000000</td>\n",
       "      <td>2.000000</td>\n",
       "      <td>16781.327500</td>\n",
       "    </tr>\n",
       "    <tr>\n",
       "      <th>max</th>\n",
       "      <td>60.000000</td>\n",
       "      <td>53.100000</td>\n",
       "      <td>140.000000</td>\n",
       "      <td>5.000000</td>\n",
       "      <td>63770.430000</td>\n",
       "    </tr>\n",
       "  </tbody>\n",
       "</table>\n",
       "</div>"
      ],
      "text/plain": [
       "               age          bmi  bloodpressure     children         claim\n",
       "count  1332.000000  1332.000000    1332.000000  1332.000000   1332.000000\n",
       "mean     38.086336    30.658333      94.189189     1.099850  13325.246426\n",
       "std      11.112804     6.118967      11.445173     1.205958  12109.620712\n",
       "min      18.000000    16.000000      80.000000     0.000000   1121.870000\n",
       "25%      29.000000    26.200000      86.000000     0.000000   4760.157500\n",
       "50%      38.000000    30.350000      92.000000     1.000000   9412.965000\n",
       "75%      47.000000    34.725000      99.000000     2.000000  16781.327500\n",
       "max      60.000000    53.100000     140.000000     5.000000  63770.430000"
      ]
     },
     "execution_count": 9,
     "metadata": {},
     "output_type": "execute_result"
    }
   ],
   "source": [
    "#descriptive statistics of the numerical variables \n",
    "df.describe()"
   ]
  },
  {
   "cell_type": "code",
   "execution_count": 10,
   "id": "fbf37486",
   "metadata": {},
   "outputs": [
    {
     "data": {
      "text/plain": [
       "0"
      ]
     },
     "execution_count": 10,
     "metadata": {},
     "output_type": "execute_result"
    }
   ],
   "source": [
    "# check for duplicates\n",
    "\n",
    "df.duplicated().sum()"
   ]
  },
  {
   "cell_type": "code",
   "execution_count": 11,
   "id": "08d01dc2",
   "metadata": {},
   "outputs": [
    {
     "data": {
      "text/html": [
       "<div>\n",
       "<style scoped>\n",
       "    .dataframe tbody tr th:only-of-type {\n",
       "        vertical-align: middle;\n",
       "    }\n",
       "\n",
       "    .dataframe tbody tr th {\n",
       "        vertical-align: top;\n",
       "    }\n",
       "\n",
       "    .dataframe thead th {\n",
       "        text-align: right;\n",
       "    }\n",
       "</style>\n",
       "<table border=\"1\" class=\"dataframe\">\n",
       "  <thead>\n",
       "    <tr style=\"text-align: right;\">\n",
       "      <th></th>\n",
       "      <th>PatientID</th>\n",
       "      <th>gender</th>\n",
       "      <th>diabetic</th>\n",
       "      <th>smoker</th>\n",
       "      <th>region</th>\n",
       "    </tr>\n",
       "  </thead>\n",
       "  <tbody>\n",
       "    <tr>\n",
       "      <th>count</th>\n",
       "      <td>1332</td>\n",
       "      <td>1332</td>\n",
       "      <td>1332</td>\n",
       "      <td>1332</td>\n",
       "      <td>1332</td>\n",
       "    </tr>\n",
       "    <tr>\n",
       "      <th>unique</th>\n",
       "      <td>1332</td>\n",
       "      <td>2</td>\n",
       "      <td>2</td>\n",
       "      <td>2</td>\n",
       "      <td>4</td>\n",
       "    </tr>\n",
       "    <tr>\n",
       "      <th>top</th>\n",
       "      <td>1</td>\n",
       "      <td>male</td>\n",
       "      <td>No</td>\n",
       "      <td>No</td>\n",
       "      <td>southeast</td>\n",
       "    </tr>\n",
       "    <tr>\n",
       "      <th>freq</th>\n",
       "      <td>1</td>\n",
       "      <td>670</td>\n",
       "      <td>695</td>\n",
       "      <td>1058</td>\n",
       "      <td>442</td>\n",
       "    </tr>\n",
       "  </tbody>\n",
       "</table>\n",
       "</div>"
      ],
      "text/plain": [
       "        PatientID gender diabetic smoker     region\n",
       "count        1332   1332     1332   1332       1332\n",
       "unique       1332      2        2      2          4\n",
       "top             1   male       No     No  southeast\n",
       "freq            1    670      695   1058        442"
      ]
     },
     "execution_count": 11,
     "metadata": {},
     "output_type": "execute_result"
    }
   ],
   "source": [
    "#descriptive statistics of categorical variables \n",
    "df.describe(include = 'object')"
   ]
  },
  {
   "cell_type": "code",
   "execution_count": 12,
   "id": "bd6056de",
   "metadata": {},
   "outputs": [
    {
     "name": "stdout",
     "output_type": "stream",
     "text": [
      "Unique labels in gender: ['male' 'female']\n",
      "Unique labels in diabetic: ['Yes' 'No']\n",
      "Unique labels in smoker: ['No' 'Yes']\n",
      "Unique labels in region: ['southeast' 'northwest' 'southwest' 'northeast']\n"
     ]
    }
   ],
   "source": [
    "# checking for the unique labels in each of the categorical variables \n",
    "categorical_variables = ['gender', 'diabetic', 'smoker', 'region']\n",
    "\n",
    "for variable in categorical_variables:\n",
    "    unique_labels = df[variable].unique()\n",
    "    print(f\"Unique labels in {variable}: {unique_labels}\")\n"
   ]
  },
  {
   "cell_type": "markdown",
   "id": "70383224",
   "metadata": {},
   "source": [
    "There are no inconsistencies in the variables. good to go"
   ]
  },
  {
   "cell_type": "code",
   "execution_count": 13,
   "id": "f1a07c8c",
   "metadata": {
    "scrolled": false
   },
   "outputs": [
    {
     "name": "stdout",
     "output_type": "stream",
     "text": [
      "Number of outliers in age: 0\n"
     ]
    },
    {
     "data": {
      "image/png": "[encoded data removed]",
      "text/plain": [
       "<Figure size 640x480 with 1 Axes>"
      ]
     },
     "metadata": {},
     "output_type": "display_data"
    },
    {
     "name": "stdout",
     "output_type": "stream",
     "text": [
      "Number of outliers in bmi: 7\n"
     ]
    },
    {
     "data": {
      "image/png": "[encoded data removed]",
      "text/plain": [
       "<Figure size 640x480 with 1 Axes>"
      ]
     },
     "metadata": {},
     "output_type": "display_data"
    },
    {
     "name": "stdout",
     "output_type": "stream",
     "text": [
      "Number of outliers in children: 0\n"
     ]
    },
    {
     "data": {
      "image/png": "[encoded data removed]",
      "text/plain": [
       "<Figure size 640x480 with 1 Axes>"
      ]
     },
     "metadata": {},
     "output_type": "display_data"
    },
    {
     "name": "stdout",
     "output_type": "stream",
     "text": [
      "Number of outliers in claim: 135\n"
     ]
    },
    {
     "data": {
      "image/png": "[encoded data removed]",
      "text/plain": [
       "<Figure size 640x480 with 1 Axes>"
      ]
     },
     "metadata": {},
     "output_type": "display_data"
    }
   ],
   "source": [
    "#checking for outliers \n",
    "import matplotlib.pyplot as plt\n",
    "\n",
    "numerical_variables = ['age', 'bmi', 'children', 'claim']\n",
    "\n",
    "for variable in numerical_variables:\n",
    "    # Calculate the IQR\n",
    "    Q1 = df[variable].quantile(0.25)\n",
    "    Q3 = df[variable].quantile(0.75)\n",
    "    IQR = Q3 - Q1\n",
    "\n",
    "    # Define the outlier boundaries\n",
    "    lower_bound = Q1 - 1.5 * IQR\n",
    "    upper_bound = Q3 + 1.5 * IQR\n",
    "\n",
    "    # Find the outliers\n",
    "    outliers = df[(df[variable] < lower_bound) | (df[variable] > upper_bound)]\n",
    "\n",
    "    # Print the number of outliers\n",
    "    print(f\"Number of outliers in {variable}: {len(outliers)}\")\n",
    "\n",
    "    # Create a box plot to visualize the distribution and outliers\n",
    "    plt.figure()\n",
    "    plt.boxplot(df[variable])\n",
    "    plt.title(variable)\n",
    "    plt.show()\n"
   ]
  },
  {
   "cell_type": "markdown",
   "id": "7392f5d0",
   "metadata": {},
   "source": [
    "There data seems to be free from outliers. The outliers in the target variable and bmi fall around the whiskers of the box plot, indicating that they are not extreme or influential in a significant way. Therefore, it is deemed appropriate to leave them as they are without any further treatment."
   ]
  },
  {
   "cell_type": "markdown",
   "id": "e3d9777d",
   "metadata": {},
   "source": [
    "## Explore \n",
    "The explore stage involves thoroughly analyzing and understanding the data. Exploratory data analysis (EDA) techniques are applied to uncover patterns, relationships, and insights within the dataset. Visualization and statistical analysis help to identify trends, correlations, and potential issues that may guide subsequent modeling decisions."
   ]
  },
  {
   "cell_type": "markdown",
   "id": "6c19209e",
   "metadata": {},
   "source": [
    "#### Univariate Analysis \n",
    "Univariate analysis is a statistical method that focuses on examining and understanding individual variables in isolation. It aims to uncover patterns, distributions, and summary statistics within a single variable, without considering the influence or relationship with other variables."
   ]
  },
  {
   "cell_type": "code",
   "execution_count": 14,
   "id": "d6a02a38",
   "metadata": {},
   "outputs": [],
   "source": [
    "#Inspecting and exploring various columns of the data\n",
    "categorical_var = df.select_dtypes(include = \"object\")\n",
    "numerical_var = df.select_dtypes(include = np.number)"
   ]
  },
  {
   "cell_type": "code",
   "execution_count": 15,
   "id": "2c4d19a6",
   "metadata": {},
   "outputs": [
    {
     "name": "stdout",
     "output_type": "stream",
     "text": [
      "age\n",
      "bmi\n",
      "bloodpressure\n",
      "children\n",
      "claim\n"
     ]
    }
   ],
   "source": [
    "# Iterate all numerical Variables in the data\n",
    "for col in numerical_var.columns:\n",
    "    print(col)"
   ]
  },
  {
   "cell_type": "code",
   "execution_count": 16,
   "id": "e2510b5e",
   "metadata": {},
   "outputs": [],
   "source": [
    "def explor_numerical_var(data, x) :\n",
    "    \n",
    "    \"\"\" To return the numerical and graphical summary of \n",
    "    numerical variables by taking df and x as argument \"\"\"\n",
    "        \n",
    "    print(\"Summary statistics \\n\")\n",
    "    print(df[x].apply([len, min, max, np.mean, np.median, np.std]))\n",
    "    print(\"=================================================\")\n",
    "    print(f\"Missing values: {df[x].isnull().sum()}\")\n",
    "    print(\"==================================================\")\n",
    "    plt.figure(figsize = (8, 4))\n",
    "    #Plot a box plot\n",
    "    meanpointdrop = dict(marker = \"D\", markeredgecolor =\"black\", markerfacecolor =\"firebrick\")\n",
    "    medianprops = dict(linestyle =\"-.\", linewidth = 3, color=\"gold\")\n",
    "    plt.subplot(1,2,1)\n",
    "    plt.boxplot(df[x], vert = True, patch_artist = True, notch = True,\n",
    "            showmeans = True, medianprops = medianprops, meanprops = meanpointdrop)\n",
    "    plt.xlabel(df[x].name)\n",
    "    plt.title(\"Boxplot\")\n",
    "\n",
    "    # plotting a histogram\n",
    "    plt.subplot(1,2,2)\n",
    "    plt.hist(df[x], bins = 10)\n",
    "    plt.title(\"Histogram\")\n",
    "    plt.tight_layout()\n",
    "    plt.show()"
   ]
  },
  {
   "cell_type": "code",
   "execution_count": 17,
   "id": "7c8cc79f",
   "metadata": {},
   "outputs": [
    {
     "name": "stdout",
     "output_type": "stream",
     "text": [
      "Summary statistics \n",
      "\n",
      "len       1332.000000\n",
      "min         16.000000\n",
      "max         53.100000\n",
      "mean        30.658333\n",
      "median      30.350000\n",
      "std          6.118967\n",
      "Name: bmi, dtype: float64\n",
      "=================================================\n",
      "Missing values: 0\n",
      "==================================================\n"
     ]
    },
    {
     "data": {
      "image/png": "[encoded data removed]",
      "text/plain": [
       "<Figure size 800x400 with 2 Axes>"
      ]
     },
     "metadata": {},
     "output_type": "display_data"
    }
   ],
   "source": [
    "# Call the \"explore_numerical_var\" function and to explore the bmi variable\n",
    "\n",
    "explor_numerical_var(df, 'bmi')"
   ]
  },
  {
   "cell_type": "code",
   "execution_count": 18,
   "id": "dbdfde37",
   "metadata": {},
   "outputs": [
    {
     "name": "stdout",
     "output_type": "stream",
     "text": [
      "Summary statistics \n",
      "\n",
      "len       1332.000000\n",
      "min         18.000000\n",
      "max         60.000000\n",
      "mean        38.086336\n",
      "median      38.000000\n",
      "std         11.112804\n",
      "Name: age, dtype: float64\n",
      "=================================================\n",
      "Missing values: 0\n",
      "==================================================\n"
     ]
    },
    {
     "data": {
      "image/png": "[encoded data removed]",
      "text/plain": [
       "<Figure size 800x400 with 2 Axes>"
      ]
     },
     "metadata": {},
     "output_type": "display_data"
    }
   ],
   "source": [
    "# Call the \"explore_numerical_var\" function and to explore the age column\n",
    "\n",
    "explor_numerical_var(df, 'age')"
   ]
  },
  {
   "cell_type": "code",
   "execution_count": 19,
   "id": "8586bd53",
   "metadata": {},
   "outputs": [
    {
     "name": "stdout",
     "output_type": "stream",
     "text": [
      "Summary statistics \n",
      "\n",
      "len       1332.000000\n",
      "min          0.000000\n",
      "max          5.000000\n",
      "mean         1.099850\n",
      "median       1.000000\n",
      "std          1.205958\n",
      "Name: children, dtype: float64\n",
      "=================================================\n",
      "Missing values: 0\n",
      "==================================================\n"
     ]
    },
    {
     "data": {
      "image/png": "[encoded data removed]",
      "text/plain": [
       "<Figure size 800x400 with 2 Axes>"
      ]
     },
     "metadata": {},
     "output_type": "display_data"
    }
   ],
   "source": [
    "# Call the \"explore_numerical_var\" function and to explore the  children column\n",
    "\n",
    "explor_numerical_var(df, 'children')"
   ]
  },
  {
   "cell_type": "code",
   "execution_count": 20,
   "id": "182cb95c",
   "metadata": {},
   "outputs": [
    {
     "name": "stdout",
     "output_type": "stream",
     "text": [
      "Summary statistics \n",
      "\n",
      "len        1332.000000\n",
      "min        1121.870000\n",
      "max       63770.430000\n",
      "mean      13325.246426\n",
      "median     9412.965000\n",
      "std       12109.620712\n",
      "Name: claim, dtype: float64\n",
      "=================================================\n",
      "Missing values: 0\n",
      "==================================================\n"
     ]
    },
    {
     "data": {
      "image/png": "[encoded data removed]",
      "text/plain": [
       "<Figure size 800x400 with 2 Axes>"
      ]
     },
     "metadata": {},
     "output_type": "display_data"
    }
   ],
   "source": [
    "# Call the \"explore_numerical_var\" function and to explore the target variable claim\n",
    "\n",
    "explor_numerical_var(df, 'claim')"
   ]
  },
  {
   "cell_type": "code",
   "execution_count": 21,
   "id": "c1010eb6",
   "metadata": {},
   "outputs": [
    {
     "name": "stdout",
     "output_type": "stream",
     "text": [
      "PatientID\n",
      "gender\n",
      "diabetic\n",
      "smoker\n",
      "region\n"
     ]
    }
   ],
   "source": [
    "# Iterate all Categorical Variables in the data\n",
    "for col in categorical_var.columns:\n",
    "    print(col)"
   ]
  },
  {
   "cell_type": "code",
   "execution_count": 22,
   "id": "097fdb31",
   "metadata": {},
   "outputs": [],
   "source": [
    "import seaborn as sns\n",
    "import matplotlib.pyplot as plt\n",
    "\n",
    "def explore_categorical_var(df, x):\n",
    "    \"\"\"Returns the numerical and graphical summary of categorical variables, including percentage of each label\"\"\"\n",
    "\n",
    "    print(\"Summary\")\n",
    "    print(\"===============================\")\n",
    "    print(df[x].describe(), \"\\n\")\n",
    "    print(\"===============================\")\n",
    "    print(\"Value count \\n\")\n",
    "    value_counts = df[x].value_counts()\n",
    "    print(value_counts, \"\\n\")\n",
    "    print(\"===============================\")\n",
    "    print(\"Percentage \\n\")\n",
    "    total_count = value_counts.sum()\n",
    "    percentages = (value_counts / total_count) * 100\n",
    "    print(percentages, \"\\n\")\n",
    "    print(\"===============================\")\n",
    "    print(f\"Missing values: {df[x].isnull().sum()}\")\n",
    "\n",
    "    plt.figure()\n",
    "    ax = sns.countplot(data=df, x=x)\n",
    "    plt.title(x)\n",
    "\n",
    "    for i, v in enumerate(percentages):\n",
    "        ax.text(i, v, f\"{v:.2f}%\", ha='center', va='bottom', fontweight='bold')\n",
    "\n",
    "    plt.show()\n"
   ]
  },
  {
   "cell_type": "code",
   "execution_count": 23,
   "id": "422db7c6",
   "metadata": {},
   "outputs": [
    {
     "name": "stdout",
     "output_type": "stream",
     "text": [
      "Summary\n",
      "===============================\n",
      "count     1332\n",
      "unique       2\n",
      "top       male\n",
      "freq       670\n",
      "Name: gender, dtype: object \n",
      "\n",
      "===============================\n",
      "Value count \n",
      "\n",
      "male      670\n",
      "female    662\n",
      "Name: gender, dtype: int64 \n",
      "\n",
      "===============================\n",
      "Percentage \n",
      "\n",
      "male      50.3003\n",
      "female    49.6997\n",
      "Name: gender, dtype: float64 \n",
      "\n",
      "===============================\n",
      "Missing values: 0\n"
     ]
    },
    {
     "data": {
      "image/png": "[encoded data removed]",
      "text/plain": [
       "<Figure size 640x480 with 1 Axes>"
      ]
     },
     "metadata": {},
     "output_type": "display_data"
    }
   ],
   "source": [
    "# Call the \"explore_categorical_var\" function and to explore the gender variable\n",
    "\n",
    "explore_categorical_var(df, 'gender')"
   ]
  },
  {
   "cell_type": "code",
   "execution_count": 24,
   "id": "9e06b94c",
   "metadata": {},
   "outputs": [
    {
     "name": "stdout",
     "output_type": "stream",
     "text": [
      "Summary\n",
      "===============================\n",
      "count     1332\n",
      "unique       2\n",
      "top         No\n",
      "freq       695\n",
      "Name: diabetic, dtype: object \n",
      "\n",
      "===============================\n",
      "Value count \n",
      "\n",
      "No     695\n",
      "Yes    637\n",
      "Name: diabetic, dtype: int64 \n",
      "\n",
      "===============================\n",
      "Percentage \n",
      "\n",
      "No     52.177177\n",
      "Yes    47.822823\n",
      "Name: diabetic, dtype: float64 \n",
      "\n",
      "===============================\n",
      "Missing values: 0\n"
     ]
    },
    {
     "data": {
      "image/png": "[encoded data removed]",
      "text/plain": [
       "<Figure size 640x480 with 1 Axes>"
      ]
     },
     "metadata": {},
     "output_type": "display_data"
    }
   ],
   "source": [
    "# Call the \"explore_categorical_var\" function and to explore the diabetic variable\n",
    "\n",
    "explore_categorical_var(df, 'diabetic')"
   ]
  },
  {
   "cell_type": "code",
   "execution_count": 25,
   "id": "d74ffdd6",
   "metadata": {},
   "outputs": [
    {
     "name": "stdout",
     "output_type": "stream",
     "text": [
      "Summary\n",
      "===============================\n",
      "count          1332\n",
      "unique            4\n",
      "top       southeast\n",
      "freq            442\n",
      "Name: region, dtype: object \n",
      "\n",
      "===============================\n",
      "Value count \n",
      "\n",
      "southeast    442\n",
      "northwest    345\n",
      "southwest    314\n",
      "northeast    231\n",
      "Name: region, dtype: int64 \n",
      "\n",
      "===============================\n",
      "Percentage \n",
      "\n",
      "southeast    33.183183\n",
      "northwest    25.900901\n",
      "southwest    23.573574\n",
      "northeast    17.342342\n",
      "Name: region, dtype: float64 \n",
      "\n",
      "===============================\n",
      "Missing values: 0\n"
     ]
    },
    {
     "data": {
      "image/png": "[encoded data removed]",
      "text/plain": [
       "<Figure size 640x480 with 1 Axes>"
      ]
     },
     "metadata": {},
     "output_type": "display_data"
    }
   ],
   "source": [
    "# Call the \"explore_categorical_var\" function and to explore the region variable\n",
    "\n",
    "explore_categorical_var(df, 'region')"
   ]
  },
  {
   "cell_type": "code",
   "execution_count": 26,
   "id": "13dacce5",
   "metadata": {},
   "outputs": [
    {
     "name": "stdout",
     "output_type": "stream",
     "text": [
      "Summary\n",
      "===============================\n",
      "count     1332\n",
      "unique       2\n",
      "top         No\n",
      "freq      1058\n",
      "Name: smoker, dtype: object \n",
      "\n",
      "===============================\n",
      "Value count \n",
      "\n",
      "No     1058\n",
      "Yes     274\n",
      "Name: smoker, dtype: int64 \n",
      "\n",
      "===============================\n",
      "Percentage \n",
      "\n",
      "No     79.429429\n",
      "Yes    20.570571\n",
      "Name: smoker, dtype: float64 \n",
      "\n",
      "===============================\n",
      "Missing values: 0\n"
     ]
    },
    {
     "data": {
      "image/png": "[encoded data removed]",
      "text/plain": [
       "<Figure size 640x480 with 1 Axes>"
      ]
     },
     "metadata": {},
     "output_type": "display_data"
    }
   ],
   "source": [
    "# Call the \"explore_categorical_var\" function and to explore the diabetic variable\n",
    "\n",
    "explore_categorical_var(df, 'smoker')"
   ]
  },
  {
   "cell_type": "markdown",
   "id": "c61a0b8c",
   "metadata": {},
   "source": [
    "### Bivariate Analysis \n",
    "\n",
    "Bivariate analysis is an important statistical technique used to explore the relationship between two variables. It involves examining the association, patterns, and trends between two variables to gain insights into their mutual influence.\n",
    "\n",
    "The main purpose of conducting bivariate analysis is to understand the relationship between two variables and to determine the strength and direction of their association. By analyzing the relationship between two variables, we can identify patterns, dependencies, and potential cause-effect relationships. This analysis helps us gain a deeper understanding of the data and can provide valuable insights for decision-making and further analysis.\n"
   ]
  },
  {
   "cell_type": "markdown",
   "id": "4b71f689",
   "metadata": {},
   "source": [
    "**Exploring Statistical Differences in Insurance Claims**\n",
    "\n",
    "The objective of this analysis is to determine if there are any significant statistical differences in the insurance claim amounts (charges) among various categorical variables. By conducting a Two-Way ANOVA, we aim to provide valuable insights to the insurance company, specifically tailored to our unique situation. This analysis will help us make informed decisions regarding the factors that influence insurance claims and guide you in developing effective strategies to manage claims effectively.\n"
   ]
  },
  {
   "cell_type": "code",
   "execution_count": 27,
   "id": "3b096452",
   "metadata": {},
   "outputs": [
    {
     "data": {
      "image/png": "[encoded data removed]",
      "text/plain": [
       "<Figure size 1000x600 with 2 Axes>"
      ]
     },
     "metadata": {},
     "output_type": "display_data"
    }
   ],
   "source": [
    "# Set the figure size\n",
    "plt.figure(figsize = (10, 6))\n",
    "\n",
    "# Calculate the correlation matrix\n",
    "corr = df.corr()\n",
    "\n",
    "# Generate a mask for the upper triangle\n",
    "mask = np.triu(np.ones_like(corr, dtype=bool))\n",
    "\n",
    "# Set the color map to diverging\n",
    "cmap = sns.diverging_palette(220, 10, as_cmap=True)\n",
    "\n",
    "# Draw the heatmap with the mask and correct aspect ratio\n",
    "sns.heatmap(corr, mask=mask, cmap=cmap, vmax=1, vmin=-1, center=0,\n",
    "            square=True, linewidths=.5, cbar_kws={\"shrink\": .5}, annot=True)\n",
    "\n",
    "# Add the title and x and y labels\n",
    "plt.title('Correlation Matrix of Numerical Features', fontsize=16)\n",
    "plt.xlabel('Feature', fontsize=14)\n",
    "plt.ylabel('Feature', fontsize=14)\n",
    "\n",
    "# Show the plot\n",
    "plt.show()"
   ]
  },
  {
   "cell_type": "markdown",
   "id": "bc12c71d",
   "metadata": {},
   "source": [
    "Normality is an important assumption in statistical analysis, including ANOVA. It refers to the distribution of the dependent variable (in this case, insurance claim amounts) following a normal or bell-shaped distribution. When the dependent variable is normally distributed, it allows for more accurate inference and reliable results from statistical tests.\n",
    "\n",
    "To check for the normality of the dependent variable, we can use visual methods such as a histogram or a Q-Q plot, as well as statistical tests such as the Shapiro-Wilk test or the Kolmogorov-Smirnov test. These methods can provide evidence of whether the data deviate significantly from a normal distribution."
   ]
  },
  {
   "cell_type": "code",
   "execution_count": 28,
   "id": "fbb40504",
   "metadata": {},
   "outputs": [
    {
     "data": {
      "image/png": "[encoded data removed]",
      "text/plain": [
       "<Figure size 800x600 with 1 Axes>"
      ]
     },
     "metadata": {},
     "output_type": "display_data"
    },
    {
     "data": {
      "image/png": "[encoded data removed]",
      "text/plain": [
       "<Figure size 600x600 with 1 Axes>"
      ]
     },
     "metadata": {},
     "output_type": "display_data"
    }
   ],
   "source": [
    "# Create histogram\n",
    "plt.figure(figsize=(8, 6))\n",
    "sns.histplot(data=df, x='claim', kde=True)\n",
    "plt.title('Distribution of Insurance Claim Amounts')\n",
    "plt.xlabel('Claim Amounts')\n",
    "plt.ylabel('Frequency')\n",
    "plt.show()\n",
    "\n",
    "# Create Q-Q plot\n",
    "plt.figure(figsize=(6, 6))\n",
    "stats.probplot(df['claim'], dist='norm', plot=plt)\n",
    "plt.title('Q-Q Plot - Insurance Claim Amounts')\n",
    "plt.xlabel('Theoretical Quantiles')\n",
    "plt.ylabel('Sample Quantiles')\n",
    "plt.show()\n"
   ]
  },
  {
   "cell_type": "markdown",
   "id": "7f54afb5",
   "metadata": {},
   "source": [
    "our dependent variable is normal we can proceed"
   ]
  },
  {
   "cell_type": "code",
   "execution_count": 29,
   "id": "e5909315",
   "metadata": {},
   "outputs": [
    {
     "data": {
      "text/html": [
       "<div>\n",
       "<style scoped>\n",
       "    .dataframe tbody tr th:only-of-type {\n",
       "        vertical-align: middle;\n",
       "    }\n",
       "\n",
       "    .dataframe tbody tr th {\n",
       "        vertical-align: top;\n",
       "    }\n",
       "\n",
       "    .dataframe thead th {\n",
       "        text-align: right;\n",
       "    }\n",
       "</style>\n",
       "<table border=\"1\" class=\"dataframe\">\n",
       "  <thead>\n",
       "    <tr style=\"text-align: right;\">\n",
       "      <th></th>\n",
       "      <th>df</th>\n",
       "      <th>sum_sq</th>\n",
       "      <th>mean_sq</th>\n",
       "      <th>F</th>\n",
       "      <th>PR(&gt;F)</th>\n",
       "    </tr>\n",
       "  </thead>\n",
       "  <tbody>\n",
       "    <tr>\n",
       "      <th>C(gender)</th>\n",
       "      <td>1.0</td>\n",
       "      <td>4.006726e+02</td>\n",
       "      <td>4.006726e+02</td>\n",
       "      <td>0.000007</td>\n",
       "      <td>9.978164e-01</td>\n",
       "    </tr>\n",
       "    <tr>\n",
       "      <th>C(smoker)</th>\n",
       "      <td>1.0</td>\n",
       "      <td>1.171649e+11</td>\n",
       "      <td>1.171649e+11</td>\n",
       "      <td>2191.085471</td>\n",
       "      <td>3.843295e-281</td>\n",
       "    </tr>\n",
       "    <tr>\n",
       "      <th>C(region)</th>\n",
       "      <td>3.0</td>\n",
       "      <td>7.785117e+08</td>\n",
       "      <td>2.595039e+08</td>\n",
       "      <td>4.852948</td>\n",
       "      <td>2.315734e-03</td>\n",
       "    </tr>\n",
       "    <tr>\n",
       "      <th>C(diabetic)</th>\n",
       "      <td>1.0</td>\n",
       "      <td>1.150277e+08</td>\n",
       "      <td>1.150277e+08</td>\n",
       "      <td>2.151117</td>\n",
       "      <td>1.427080e-01</td>\n",
       "    </tr>\n",
       "    <tr>\n",
       "      <th>C(smoker):C(gender):C(diabetic):C(region)</th>\n",
       "      <td>25.0</td>\n",
       "      <td>3.845261e+09</td>\n",
       "      <td>1.538104e+08</td>\n",
       "      <td>2.876389</td>\n",
       "      <td>3.125823e-06</td>\n",
       "    </tr>\n",
       "    <tr>\n",
       "      <th>Residual</th>\n",
       "      <td>1300.0</td>\n",
       "      <td>6.951549e+10</td>\n",
       "      <td>5.347345e+07</td>\n",
       "      <td>NaN</td>\n",
       "      <td>NaN</td>\n",
       "    </tr>\n",
       "  </tbody>\n",
       "</table>\n",
       "</div>"
      ],
      "text/plain": [
       "                                               df        sum_sq       mean_sq  \\\n",
       "C(gender)                                     1.0  4.006726e+02  4.006726e+02   \n",
       "C(smoker)                                     1.0  1.171649e+11  1.171649e+11   \n",
       "C(region)                                     3.0  7.785117e+08  2.595039e+08   \n",
       "C(diabetic)                                   1.0  1.150277e+08  1.150277e+08   \n",
       "C(smoker):C(gender):C(diabetic):C(region)    25.0  3.845261e+09  1.538104e+08   \n",
       "Residual                                   1300.0  6.951549e+10  5.347345e+07   \n",
       "\n",
       "                                                     F         PR(>F)  \n",
       "C(gender)                                     0.000007   9.978164e-01  \n",
       "C(smoker)                                  2191.085471  3.843295e-281  \n",
       "C(region)                                     4.852948   2.315734e-03  \n",
       "C(diabetic)                                   2.151117   1.427080e-01  \n",
       "C(smoker):C(gender):C(diabetic):C(region)     2.876389   3.125823e-06  \n",
       "Residual                                           NaN            NaN  "
      ]
     },
     "execution_count": 29,
     "metadata": {},
     "output_type": "execute_result"
    }
   ],
   "source": [
    "from bioinfokit.analys import stat\n",
    "\n",
    "res = stat()\n",
    "res.anova_stat(df=df, res_var='claim', anova_model='claim ~ C(gender)+C(smoker)+C(region)+C(diabetic)+C(smoker):C(gender):C(diabetic):C(region)')\n",
    "res.anova_summary"
   ]
  },
  {
   "cell_type": "markdown",
   "id": "759dd05a",
   "metadata": {},
   "source": []
  },
  {
   "cell_type": "markdown",
   "id": "9b01494a",
   "metadata": {},
   "source": [
    "The ANOVA analysis indicates that all the categorical variables, including gender, smoker, are significantly associated with the target variable"
   ]
  },
  {
   "cell_type": "code",
   "execution_count": 30,
   "id": "c1b92e53",
   "metadata": {},
   "outputs": [
    {
     "data": {
      "text/html": [
       "<div>\n",
       "<style scoped>\n",
       "    .dataframe tbody tr th:only-of-type {\n",
       "        vertical-align: middle;\n",
       "    }\n",
       "\n",
       "    .dataframe tbody tr th {\n",
       "        vertical-align: top;\n",
       "    }\n",
       "\n",
       "    .dataframe thead th {\n",
       "        text-align: right;\n",
       "    }\n",
       "</style>\n",
       "<table border=\"1\" class=\"dataframe\">\n",
       "  <thead>\n",
       "    <tr style=\"text-align: right;\">\n",
       "      <th></th>\n",
       "      <th>age</th>\n",
       "      <th>bmi</th>\n",
       "      <th>bloodpressure</th>\n",
       "      <th>children</th>\n",
       "      <th>claim</th>\n",
       "    </tr>\n",
       "  </thead>\n",
       "  <tbody>\n",
       "    <tr>\n",
       "      <th>0</th>\n",
       "      <td>39</td>\n",
       "      <td>23.2</td>\n",
       "      <td>91</td>\n",
       "      <td>0</td>\n",
       "      <td>1121.87</td>\n",
       "    </tr>\n",
       "    <tr>\n",
       "      <th>1</th>\n",
       "      <td>24</td>\n",
       "      <td>30.1</td>\n",
       "      <td>87</td>\n",
       "      <td>0</td>\n",
       "      <td>1131.51</td>\n",
       "    </tr>\n",
       "    <tr>\n",
       "      <th>7</th>\n",
       "      <td>19</td>\n",
       "      <td>41.1</td>\n",
       "      <td>100</td>\n",
       "      <td>0</td>\n",
       "      <td>1146.80</td>\n",
       "    </tr>\n",
       "    <tr>\n",
       "      <th>8</th>\n",
       "      <td>20</td>\n",
       "      <td>43.0</td>\n",
       "      <td>86</td>\n",
       "      <td>0</td>\n",
       "      <td>1149.40</td>\n",
       "    </tr>\n",
       "    <tr>\n",
       "      <th>9</th>\n",
       "      <td>30</td>\n",
       "      <td>53.1</td>\n",
       "      <td>97</td>\n",
       "      <td>0</td>\n",
       "      <td>1163.46</td>\n",
       "    </tr>\n",
       "    <tr>\n",
       "      <th>...</th>\n",
       "      <td>...</td>\n",
       "      <td>...</td>\n",
       "      <td>...</td>\n",
       "      <td>...</td>\n",
       "      <td>...</td>\n",
       "    </tr>\n",
       "    <tr>\n",
       "      <th>1335</th>\n",
       "      <td>44</td>\n",
       "      <td>35.5</td>\n",
       "      <td>88</td>\n",
       "      <td>0</td>\n",
       "      <td>55135.40</td>\n",
       "    </tr>\n",
       "    <tr>\n",
       "      <th>1336</th>\n",
       "      <td>59</td>\n",
       "      <td>38.1</td>\n",
       "      <td>120</td>\n",
       "      <td>1</td>\n",
       "      <td>58571.07</td>\n",
       "    </tr>\n",
       "    <tr>\n",
       "      <th>1337</th>\n",
       "      <td>30</td>\n",
       "      <td>34.5</td>\n",
       "      <td>91</td>\n",
       "      <td>3</td>\n",
       "      <td>60021.40</td>\n",
       "    </tr>\n",
       "    <tr>\n",
       "      <th>1338</th>\n",
       "      <td>37</td>\n",
       "      <td>30.4</td>\n",
       "      <td>106</td>\n",
       "      <td>0</td>\n",
       "      <td>62592.87</td>\n",
       "    </tr>\n",
       "    <tr>\n",
       "      <th>1339</th>\n",
       "      <td>30</td>\n",
       "      <td>47.4</td>\n",
       "      <td>101</td>\n",
       "      <td>0</td>\n",
       "      <td>63770.43</td>\n",
       "    </tr>\n",
       "  </tbody>\n",
       "</table>\n",
       "<p>1332 rows × 5 columns</p>\n",
       "</div>"
      ],
      "text/plain": [
       "      age   bmi  bloodpressure  children     claim\n",
       "0      39  23.2             91         0   1121.87\n",
       "1      24  30.1             87         0   1131.51\n",
       "7      19  41.1            100         0   1146.80\n",
       "8      20  43.0             86         0   1149.40\n",
       "9      30  53.1             97         0   1163.46\n",
       "...   ...   ...            ...       ...       ...\n",
       "1335   44  35.5             88         0  55135.40\n",
       "1336   59  38.1            120         1  58571.07\n",
       "1337   30  34.5             91         3  60021.40\n",
       "1338   37  30.4            106         0  62592.87\n",
       "1339   30  47.4            101         0  63770.43\n",
       "\n",
       "[1332 rows x 5 columns]"
      ]
     },
     "execution_count": 30,
     "metadata": {},
     "output_type": "execute_result"
    }
   ],
   "source": [
    "numerical_var"
   ]
  },
  {
   "cell_type": "code",
   "execution_count": 31,
   "id": "dcba1ab3",
   "metadata": {
    "scrolled": false
   },
   "outputs": [
    {
     "name": "stdout",
     "output_type": "stream",
     "text": [
      "                            OLS Regression Results                            \n",
      "==============================================================================\n",
      "Dep. Variable:                  claim   R-squared:                       0.304\n",
      "Model:                            OLS   Adj. R-squared:                  0.302\n",
      "Method:                 Least Squares   F-statistic:                     145.0\n",
      "Date:                Sun, 11 Jun 2023   Prob (F-statistic):          6.30e-103\n",
      "Time:                        17:02:23   Log-Likelihood:                -14171.\n",
      "No. Observations:                1332   AIC:                         2.835e+04\n",
      "Df Residuals:                    1327   BIC:                         2.838e+04\n",
      "Df Model:                           4                                         \n",
      "Covariance Type:            nonrobust                                         \n",
      "=================================================================================\n",
      "                    coef    std err          t      P>|t|      [0.025      0.975]\n",
      "---------------------------------------------------------------------------------\n",
      "const           -4.7e+04   2795.730    -16.812      0.000   -5.25e+04   -4.15e+04\n",
      "age              10.7620     25.022      0.430      0.667     -38.325      59.849\n",
      "bmi             246.1194     45.835      5.370      0.000     156.203     336.036\n",
      "children        807.8338    230.202      3.509      0.000     356.234    1259.433\n",
      "bloodpressure   546.5840     24.542     22.272      0.000     498.440     594.728\n",
      "==============================================================================\n",
      "Omnibus:                      315.209   Durbin-Watson:                   0.573\n",
      "Prob(Omnibus):                  0.000   Jarque-Bera (JB):              633.717\n",
      "Skew:                           1.375   Prob(JB):                    2.45e-138\n",
      "Kurtosis:                       4.964   Cond. No.                     1.08e+03\n",
      "==============================================================================\n",
      "\n",
      "Notes:\n",
      "[1] Standard Errors assume that the covariance matrix of the errors is correctly specified.\n",
      "[2] The condition number is large, 1.08e+03. This might indicate that there are\n",
      "strong multicollinearity or other numerical problems.\n"
     ]
    },
    {
     "data": {
      "image/png": "[encoded data removed]",
      "text/plain": [
       "<Figure size 640x480 with 1 Axes>"
      ]
     },
     "metadata": {},
     "output_type": "display_data"
    },
    {
     "data": {
      "image/png": "[encoded data removed]",
      "text/plain": [
       "<Figure size 640x480 with 1 Axes>"
      ]
     },
     "metadata": {},
     "output_type": "display_data"
    },
    {
     "data": {
      "image/png": "[encoded data removed]",
      "text/plain": [
       "<Figure size 1200x400 with 2 Axes>"
      ]
     },
     "metadata": {},
     "output_type": "display_data"
    },
    {
     "name": "stdout",
     "output_type": "stream",
     "text": [
      "        Variable        VIF\n",
      "0            age  10.708689\n",
      "1            bmi  22.578528\n",
      "2       children   1.809031\n",
      "3  bloodpressure  27.937914\n"
     ]
    }
   ],
   "source": [
    "import statsmodels.api as sm\n",
    "\n",
    "# Specify the predictor variables (X) and the target variable (y)\n",
    "X = df[['age', 'bmi', 'children', 'bloodpressure']]\n",
    "y = df['claim']\n",
    "\n",
    "# Apply square root transformation to the variable\n",
    "# X_transformed = np.sqrt(X)\n",
    "\n",
    "# Add a constant term to the predictor variables\n",
    "X_regr = sm.add_constant(X)\n",
    "\n",
    "# Fit the linear regression model\n",
    "model = sm.OLS(y, X_regr)\n",
    "results = model.fit()\n",
    "\n",
    "# Print the regression summary\n",
    "print(results.summary())\n",
    "\n",
    "\n",
    "# Residuals\n",
    "residuals = results.resid\n",
    "\n",
    "# Check for linearity using a scatter plot of predicted values vs. residuals\n",
    "plt.scatter(results.fittedvalues, residuals)\n",
    "plt.xlabel('Predicted Values')\n",
    "plt.ylabel('Residuals')\n",
    "plt.title('Linearity: Residuals vs. Predicted Values')\n",
    "plt.show()\n",
    "\n",
    "# Check for homoscedasticity using a plot of residuals vs. predicted values\n",
    "plt.scatter(results.fittedvalues, residuals)\n",
    "plt.xlabel('Predicted Values')\n",
    "plt.ylabel('Residuals')\n",
    "plt.title('Homoscedasticity: Residuals vs. Predicted Values')\n",
    "plt.axhline(y=0, color='red', linestyle='--')  # Add a horizontal line at y=0\n",
    "plt.show()\n",
    "\n",
    "# Check for normality using a histogram and Q-Q plot of the residuals\n",
    "fig, ax = plt.subplots(1, 2, figsize=(12, 4))\n",
    "sm.qqplot(residuals, line='s', ax=ax[0])\n",
    "ax[0].set_title('Normality: Q-Q Plot')\n",
    "ax[1].hist(residuals, bins=15)\n",
    "ax[1].set_xlabel('Residuals')\n",
    "ax[1].set_ylabel('Frequency')\n",
    "ax[1].set_title('Normality: Residuals Histogram')\n",
    "plt.show()\n",
    "\n",
    "# Check for multicollinearity using variance inflation factor (VIF)\n",
    "from statsmodels.stats.outliers_influence import variance_inflation_factor\n",
    "\n",
    "vif = pd.DataFrame()\n",
    "vif['Variable'] = X.columns\n",
    "vif['VIF'] = [variance_inflation_factor(X.values, i) for i in range(X.shape[1])]\n",
    "print(vif)"
   ]
  },
  {
   "cell_type": "markdown",
   "id": "a9df7ac7",
   "metadata": {},
   "source": [
    "The OLS regression results indicate that the model has a low R-squared value of 0.304, which means that only 30.40% of the variation in the dependent variable (charges) is explained by the independent variables (age, BMI, and children). The adjusted R-squared value is also 0.302, suggesting that the inclusion of additional independent variables did not improve the model's explanatory power.\n",
    "\n",
    "**Intepretation of Coefficients**\n",
    "\n",
    "- Age: The coefficient for age is 10.7620. This suggests that, on average, for every one-year increase in age, the insurance claim is expected to increase by $10.7620, assuming all other variables remain constant. But since the p value (0.667) is grater than 0.05, age is not significant\n",
    "\n",
    "- BMI (Body Mass Index): The coefficient for BMI is 246.1194. This indicates that, on average, for every one-unit increase in BMI, the insurance claim is expected to increase by $246.1194, assuming all other variables remain constant. This suggests that individuals with higher BMI tend to have higher insurance claims.\n",
    "\n",
    "- Children: The coefficient for children is 807.8338. This implies that, on average, each additional child is associated with an increase of $807.8338 in the insurance claim, assuming all other variables remain constant. This suggests that individuals with more children tend to have higher insurance claims.\n",
    "\n",
    "- Blood Pressure: The coefficient for blood pressure is 546.5840. This indicates that, on average, for every one-unit increase in blood pressure, the insurance claim is expected to increase by $546.5840, assuming all other variables remain constant. This suggests that individuals with higher blood pressure levels tend to have higher insurance claims.\n",
    "- The p-values associated with the coefficients indicate that all independent variables (age, BMI, and children) are statistically significant (p < 0.001), suggesting that these variables have a significant impact on the charges.\n",
    "\n",
    "The model's F-statistic is 145, and the associated p-value is close to 0, indicating that the overall model is statistically significant, suggesting that at least one of the independent variables is related to the dependent variable.\n",
    "\n",
    "The standard errors of the coefficients provide information about the precision of the estimates. The 95% confidence intervals for the coefficients (given by [0.025, 0.975]) indicate the range in which the true population values are likely to fall.\n",
    "\n",
    "The low R-squared value suggests that the current model has limited explanatory power. "
   ]
  },
  {
   "cell_type": "markdown",
   "id": "fedee527",
   "metadata": {},
   "source": [
    "Although age may not be statistically significant in predicting the claim variable based on the p-values, it is important to consider domain knowledge when making modeling decisions. In some cases, domain experts may have insights or prior knowledge suggesting that age plays a significant role in the target variable, regardless of the statistical significance. Therefore, including age in the training data for modeling can capture potential relationships that may not be apparent from statistical tests alone. By incorporating domain knowledge, we aim to build a more comprehensive and accurate predictive model that accounts for relevant factors beyond statistical significance."
   ]
  },
  {
   "cell_type": "markdown",
   "id": "74bd7271",
   "metadata": {},
   "source": [
    "## Modelling \n",
    "\n",
    "In the model stage, the dataset is prepared for modeling by transforming variables, splitting it into training and testing sets, and selecting appropriate algorithms or models. The chosen models are then trained on the training set, and their performance is evaluated using suitable evaluation metrics. Model selection and tuning are done to optimize predictive accuracy.\n"
   ]
  },
  {
   "cell_type": "markdown",
   "id": "c8ee9372",
   "metadata": {},
   "source": [
    "### Data Preprocessing "
   ]
  },
  {
   "cell_type": "markdown",
   "id": "5629afe7",
   "metadata": {},
   "source": [
    "**Encoding Categorical Variables**\n",
    "\n",
    "When working with categorical variables in machine learning models, they need to be encoded into numerical format because most machine learning algorithms require numerical input.\n",
    "\n",
    "We use one-hot encoding for categorical variables because it allows us to represent categorical information without introducing any ordinal relationship or numerical bias. It ensures that each category is treated as a separate and independent feature, preventing the model from assigning any numerical order or magnitude to the categories.\n",
    "\n",
    "By using one-hot encoding, we create a binary representation of categorical variables that can be readily understood by machine learning algorithms. This encoding scheme enables the algorithms to effectively learn from and make predictions based on categorical information.\n",
    "\n",
    "one-hot encoding is used to transform categorical variables into a format that can be processed by machine learning algorithms. It preserves the categorical nature of the variables while enabling meaningful analysis and prediction in the models.\n"
   ]
  },
  {
   "cell_type": "code",
   "execution_count": 32,
   "id": "3de13bb9",
   "metadata": {},
   "outputs": [],
   "source": [
    "from sklearn.preprocessing import OneHotEncoder\n",
    "\n",
    "# Select the categorical variable\n",
    "cat_col = df[['gender', 'diabetic', 'region', 'smoker']]\n",
    "\n",
    "# Create an instance of the OneHotEncoder class\n",
    "onehot_encoder = OneHotEncoder(handle_unknown='ignore')\n",
    "\n",
    "# Encode the categorical variables using one-hot encoding\n",
    "X_encoded = onehot_encoder.fit_transform(cat_col)\n",
    "\n",
    "# Get the encoded feature names\n",
    "encoded_feature_names = onehot_encoder.get_feature_names_out(cat_col.columns)\n",
    "\n",
    "# Convert the encoded matrix to a dense numpy array\n",
    "X_encoded_array = X_encoded.toarray()"
   ]
  },
  {
   "cell_type": "markdown",
   "id": "0f58bf88",
   "metadata": {},
   "source": [
    "**Data Scaling with Standard Scaler**\n",
    "\n",
    "Data scaling is a crucial step in data preprocessing that aims to transform numerical features to a standardized scale. It involves adjusting the values of the features to comparable ranges to prevent certain variables from dominating others during modeling.\n",
    "\n",
    "One popular scaling technique is the StandardScaler. It applies a transformation to the data such that the resulting distribution has a mean of 0 and a standard deviation of 1. This scaling method is beneficial for several reasons.\n",
    "\n",
    "Firstly, it helps to address the issue of different measurement scales. Variables with larger scales can have a disproportionate influence on the modeling process, leading to biased results. StandardScaler equalizes the scales, allowing for fair comparisons and ensuring that no single feature dominates the others.\n",
    "\n",
    "Secondly, many machine learning algorithms assume that the features are normally distributed or have a similar distribution. StandardScaler transforms the data to have a Gaussian distribution, which can improve the performance of certain algorithms.\n",
    "\n",
    "Additionally, StandardScaler is robust to outliers. By centering the data around zero and rescaling it using the standard deviation, it diminishes the impact of outliers, making the model more resilient to extreme values.\n",
    "\n",
    " StandardScaler is a widely used scaling technique that standardizes the numerical features by centering them around zero and scaling them using the standard deviation. It ensures fair comparisons between features, improves algorithm performance, and provides robustness to outliers."
   ]
  },
  {
   "cell_type": "code",
   "execution_count": 33,
   "id": "9715880a",
   "metadata": {},
   "outputs": [],
   "source": [
    "from sklearn.preprocessing import StandardScaler\n",
    "# Select the numerical variables\n",
    "numerical_features = df.drop(columns=['gender', 'diabetic', 'smoker', 'region', 'PatientID', 'claim'])\n",
    "\n",
    "# Standardize the numerical data\n",
    "scaler = StandardScaler()\n",
    "X_std = scaler.fit_transform(numerical_features)\n",
    "\n",
    "# Combine the encoded variables and the standardized numerical variables\n",
    "X_concat = np.concatenate((X_encoded_array, X_std), axis=1)\n",
    "\n",
    "# Create a DataFrame with the concatenated data and original column names\n",
    "X_df = pd.DataFrame(X_concat, columns=np.concatenate((encoded_feature_names, numerical_features.columns)))\n"
   ]
  },
  {
   "cell_type": "code",
   "execution_count": 34,
   "id": "b5075f43",
   "metadata": {},
   "outputs": [
    {
     "data": {
      "text/html": [
       "<div>\n",
       "<style scoped>\n",
       "    .dataframe tbody tr th:only-of-type {\n",
       "        vertical-align: middle;\n",
       "    }\n",
       "\n",
       "    .dataframe tbody tr th {\n",
       "        vertical-align: top;\n",
       "    }\n",
       "\n",
       "    .dataframe thead th {\n",
       "        text-align: right;\n",
       "    }\n",
       "</style>\n",
       "<table border=\"1\" class=\"dataframe\">\n",
       "  <thead>\n",
       "    <tr style=\"text-align: right;\">\n",
       "      <th></th>\n",
       "      <th>gender_female</th>\n",
       "      <th>gender_male</th>\n",
       "      <th>diabetic_No</th>\n",
       "      <th>diabetic_Yes</th>\n",
       "      <th>region_northeast</th>\n",
       "      <th>region_northwest</th>\n",
       "      <th>region_southeast</th>\n",
       "      <th>region_southwest</th>\n",
       "      <th>smoker_No</th>\n",
       "      <th>smoker_Yes</th>\n",
       "      <th>age</th>\n",
       "      <th>bmi</th>\n",
       "      <th>bloodpressure</th>\n",
       "      <th>children</th>\n",
       "    </tr>\n",
       "  </thead>\n",
       "  <tbody>\n",
       "    <tr>\n",
       "      <th>0</th>\n",
       "      <td>0.0</td>\n",
       "      <td>1.0</td>\n",
       "      <td>0.0</td>\n",
       "      <td>1.0</td>\n",
       "      <td>0.0</td>\n",
       "      <td>0.0</td>\n",
       "      <td>1.0</td>\n",
       "      <td>0.0</td>\n",
       "      <td>1.0</td>\n",
       "      <td>0.0</td>\n",
       "      <td>0.082248</td>\n",
       "      <td>-1.219345</td>\n",
       "      <td>-0.278754</td>\n",
       "      <td>-0.912356</td>\n",
       "    </tr>\n",
       "    <tr>\n",
       "      <th>1</th>\n",
       "      <td>0.0</td>\n",
       "      <td>1.0</td>\n",
       "      <td>1.0</td>\n",
       "      <td>0.0</td>\n",
       "      <td>0.0</td>\n",
       "      <td>0.0</td>\n",
       "      <td>1.0</td>\n",
       "      <td>0.0</td>\n",
       "      <td>1.0</td>\n",
       "      <td>0.0</td>\n",
       "      <td>-1.268053</td>\n",
       "      <td>-0.091281</td>\n",
       "      <td>-0.628378</td>\n",
       "      <td>-0.912356</td>\n",
       "    </tr>\n",
       "    <tr>\n",
       "      <th>2</th>\n",
       "      <td>0.0</td>\n",
       "      <td>1.0</td>\n",
       "      <td>1.0</td>\n",
       "      <td>0.0</td>\n",
       "      <td>0.0</td>\n",
       "      <td>1.0</td>\n",
       "      <td>0.0</td>\n",
       "      <td>0.0</td>\n",
       "      <td>1.0</td>\n",
       "      <td>0.0</td>\n",
       "      <td>-1.718154</td>\n",
       "      <td>1.707084</td>\n",
       "      <td>0.507899</td>\n",
       "      <td>-0.912356</td>\n",
       "    </tr>\n",
       "    <tr>\n",
       "      <th>3</th>\n",
       "      <td>0.0</td>\n",
       "      <td>1.0</td>\n",
       "      <td>1.0</td>\n",
       "      <td>0.0</td>\n",
       "      <td>0.0</td>\n",
       "      <td>1.0</td>\n",
       "      <td>0.0</td>\n",
       "      <td>0.0</td>\n",
       "      <td>1.0</td>\n",
       "      <td>0.0</td>\n",
       "      <td>-1.628134</td>\n",
       "      <td>2.017710</td>\n",
       "      <td>-0.715783</td>\n",
       "      <td>-0.912356</td>\n",
       "    </tr>\n",
       "    <tr>\n",
       "      <th>4</th>\n",
       "      <td>0.0</td>\n",
       "      <td>1.0</td>\n",
       "      <td>1.0</td>\n",
       "      <td>0.0</td>\n",
       "      <td>0.0</td>\n",
       "      <td>1.0</td>\n",
       "      <td>0.0</td>\n",
       "      <td>0.0</td>\n",
       "      <td>1.0</td>\n",
       "      <td>0.0</td>\n",
       "      <td>-0.727933</td>\n",
       "      <td>3.668936</td>\n",
       "      <td>0.245681</td>\n",
       "      <td>-0.912356</td>\n",
       "    </tr>\n",
       "  </tbody>\n",
       "</table>\n",
       "</div>"
      ],
      "text/plain": [
       "   gender_female  gender_male  diabetic_No  diabetic_Yes  region_northeast  \\\n",
       "0            0.0          1.0          0.0           1.0               0.0   \n",
       "1            0.0          1.0          1.0           0.0               0.0   \n",
       "2            0.0          1.0          1.0           0.0               0.0   \n",
       "3            0.0          1.0          1.0           0.0               0.0   \n",
       "4            0.0          1.0          1.0           0.0               0.0   \n",
       "\n",
       "   region_northwest  region_southeast  region_southwest  smoker_No  \\\n",
       "0               0.0               1.0               0.0        1.0   \n",
       "1               0.0               1.0               0.0        1.0   \n",
       "2               1.0               0.0               0.0        1.0   \n",
       "3               1.0               0.0               0.0        1.0   \n",
       "4               1.0               0.0               0.0        1.0   \n",
       "\n",
       "   smoker_Yes       age       bmi  bloodpressure  children  \n",
       "0         0.0  0.082248 -1.219345      -0.278754 -0.912356  \n",
       "1         0.0 -1.268053 -0.091281      -0.628378 -0.912356  \n",
       "2         0.0 -1.718154  1.707084       0.507899 -0.912356  \n",
       "3         0.0 -1.628134  2.017710      -0.715783 -0.912356  \n",
       "4         0.0 -0.727933  3.668936       0.245681 -0.912356  "
      ]
     },
     "execution_count": 34,
     "metadata": {},
     "output_type": "execute_result"
    }
   ],
   "source": [
    "X_df.head()"
   ]
  },
  {
   "cell_type": "code",
   "execution_count": 35,
   "id": "415102ec",
   "metadata": {
    "scrolled": true
   },
   "outputs": [
    {
     "name": "stdout",
     "output_type": "stream",
     "text": [
      "Shape of X: (1332, 14)\n",
      "Shape of y: (1332,)\n",
      "Type of X: <class 'pandas.core.frame.DataFrame'>\n",
      "Type of y: <class 'pandas.core.series.Series'>\n"
     ]
    }
   ],
   "source": [
    "# Selecting the independent variables\n",
    "features = pd.DataFrame(X_df)\n",
    "X = features[:]\n",
    "\n",
    "# Selecting the dependent variable\n",
    "y = df['claim']\n",
    "\n",
    "# Printing the shape of X and y\n",
    "print(\"Shape of X:\", X.shape)\n",
    "print(\"Shape of y:\", y.shape)\n",
    "\n",
    "# Confirming the variable types\n",
    "print(\"Type of X:\", type(X))\n",
    "print(\"Type of y:\", type(y))"
   ]
  },
  {
   "cell_type": "markdown",
   "id": "c375b6a2",
   "metadata": {},
   "source": [
    "**Splitting Data into Train and Test**\n",
    "\n",
    "Splitting the data into training and testing sets is a crucial step in machine learning and predictive modeling. The purpose of this step is to assess the performance and generalization ability of the model on unseen data."
   ]
  },
  {
   "cell_type": "code",
   "execution_count": 36,
   "id": "b000c981",
   "metadata": {},
   "outputs": [],
   "source": [
    "from sklearn.model_selection import train_test_split\n",
    "\n",
    "# Split the training set into a smaller training set and a validation set\n",
    "X_train, X_test, y_train, y_test = train_test_split(X, y, test_size=0.2, random_state=42)"
   ]
  },
  {
   "cell_type": "markdown",
   "id": "95f626e0",
   "metadata": {},
   "source": [
    "**LazyPredict**\n",
    "\n",
    "Lazy Predict provides a quick and convenient way to evaluate multiple machine learning models without explicitly specifying or fine-tuning each model individually. It aims to automate the model selection process by providing a simple interface to train and test a wide range of models and generate performance metrics\n",
    "\n",
    "But performance results provided by Lazy Predict are preliminary and may not represent the best performance achievable by each model. Fine-tuning and optimizing individual models may be required for achieving optimal results"
   ]
  },
  {
   "cell_type": "code",
   "execution_count": 37,
   "id": "fdc5626a",
   "metadata": {
    "scrolled": false
   },
   "outputs": [
    {
     "name": "stderr",
     "output_type": "stream",
     "text": [
      "  5%|▍         | 2/42 [00:00<00:03, 13.19it/s]"
     ]
    },
    {
     "name": "stdout",
     "output_type": "stream",
     "text": [
      "{'Model': 'AdaBoostRegressor', 'R-Squared': 0.7959187087988493, 'Adjusted R-Squared': 0.7845808592876742, 'RMSE': 5423.543216267642, 'Time taken': 0.06781864166259766}\n",
      "{'Model': 'BaggingRegressor', 'R-Squared': 0.8026791082207152, 'Adjusted R-Squared': 0.7917168364551994, 'RMSE': 5332.9565240401, 'Time taken': 0.08377599716186523}\n",
      "{'Model': 'BayesianRidge', 'R-Squared': 0.7300866500809111, 'Adjusted R-Squared': 0.7150914639742951, 'RMSE': 6237.257746328657, 'Time taken': 0.03989243507385254}\n",
      "{'Model': 'DecisionTreeRegressor', 'R-Squared': 0.6355836332747147, 'Adjusted R-Squared': 0.6153382795677544, 'RMSE': 7247.370190387776, 'Time taken': 0.0219419002532959}\n",
      "{'Model': 'DummyRegressor', 'R-Squared': -2.685279862491008e-05, 'Adjusted R-Squared': -0.055583900176326306, 'RMSE': 12005.69591957428, 'Time taken': 0.014959573745727539}\n",
      "{'Model': 'ElasticNet', 'R-Squared': 0.695212490780521, 'Adjusted R-Squared': 0.6782798513794388, 'RMSE': 6627.9632360676305, 'Time taken': 0.017952442169189453}\n"
     ]
    },
    {
     "name": "stderr",
     "output_type": "stream",
     "text": [
      "\r",
      " 17%|█▋        | 7/42 [00:00<00:01, 20.35it/s]"
     ]
    },
    {
     "name": "stdout",
     "output_type": "stream",
     "text": [
      "{'Model': 'ElasticNetCV', 'R-Squared': 0.2404360130564046, 'Adjusted R-Squared': 0.19823801378176042, 'RMSE': 10463.179867405597, 'Time taken': 0.11269760131835938}\n",
      "{'Model': 'ExtraTreeRegressor', 'R-Squared': 0.6178314404888625, 'Adjusted R-Squared': 0.5965998538493549, 'RMSE': 7421.795542020554, 'Time taken': 0.023936986923217773}\n"
     ]
    },
    {
     "name": "stderr",
     "output_type": "stream",
     "text": [
      " 26%|██▌       | 11/42 [00:01<00:03,  9.28it/s]"
     ]
    },
    {
     "name": "stdout",
     "output_type": "stream",
     "text": [
      "{'Model': 'ExtraTreesRegressor', 'R-Squared': 0.801017779189051, 'Adjusted R-Squared': 0.7899632113662205, 'RMSE': 5355.359689032915, 'Time taken': 0.4894425868988037}\n",
      "{'Model': 'GammaRegressor', 'R-Squared': 0.610050552343989, 'Adjusted R-Squared': 0.5883866941408773, 'RMSE': 7496.968104603971, 'Time taken': 0.025927305221557617}\n",
      "{'Model': 'GaussianProcessRegressor', 'R-Squared': -0.7659894305033872, 'Adjusted R-Squared': -0.8640999544202421, 'RMSE': 15954.21933733666, 'Time taken': 0.16356325149536133}\n",
      "{'Model': 'GradientBoostingRegressor', 'R-Squared': 0.837761831784578, 'Adjusted R-Squared': 0.8287486002170545, 'RMSE': 4835.685252177041, 'Time taken': 0.2099452018737793}\n"
     ]
    },
    {
     "name": "stderr",
     "output_type": "stream",
     "text": [
      " 38%|███▊      | 16/42 [00:02<00:04,  6.07it/s]"
     ]
    },
    {
     "name": "stdout",
     "output_type": "stream",
     "text": [
      "{'Model': 'HistGradientBoostingRegressor', 'R-Squared': 0.8156352925212688, 'Adjusted R-Squared': 0.8053928087724503, 'RMSE': 5154.901874498186, 'Time taken': 0.8820972442626953}\n",
      "{'Model': 'HuberRegressor', 'R-Squared': 0.7198471554984988, 'Adjusted R-Squared': 0.7042831085817487, 'RMSE': 6354.4655066867435, 'Time taken': 0.04088997840881348}\n",
      "{'Model': 'KNeighborsRegressor', 'R-Squared': 0.7012960775297921, 'Adjusted R-Squared': 0.6847014151703361, 'RMSE': 6561.482445014409, 'Time taken': 0.03690147399902344}\n",
      "{'Model': 'KernelRidge', 'R-Squared': -0.5827833106599953, 'Adjusted R-Squared': -0.6707157168077729, 'RMSE': 15104.009132756233, 'Time taken': 0.06283354759216309}\n",
      "{'Model': 'Lars', 'R-Squared': 0.7299989045331023, 'Adjusted R-Squared': 0.7149988436738303, 'RMSE': 6238.271492269174, 'Time taken': 0.02294015884399414}\n"
     ]
    },
    {
     "name": "stderr",
     "output_type": "stream",
     "text": [
      "\r",
      " 48%|████▊     | 20/42 [00:02<00:02,  8.65it/s]"
     ]
    },
    {
     "name": "stdout",
     "output_type": "stream",
     "text": [
      "{'Model': 'LarsCV', 'R-Squared': 0.7285094905956555, 'Adjusted R-Squared': 0.7134266845176364, 'RMSE': 6255.453996949883, 'Time taken': 0.04587578773498535}\n",
      "{'Model': 'Lasso', 'R-Squared': 0.7303106211201004, 'Adjusted R-Squared': 0.7153278778489949, 'RMSE': 6234.669406373808, 'Time taken': 0.02592945098876953}\n",
      "{'Model': 'LassoCV', 'R-Squared': 0.7272628814172326, 'Adjusted R-Squared': 0.7121108192737455, 'RMSE': 6269.799204066162, 'Time taken': 0.10372161865234375}\n",
      "{'Model': 'LassoLars', 'R-Squared': 0.7298413449684069, 'Adjusted R-Squared': 0.714832530799985, 'RMSE': 6240.091403384319, 'Time taken': 0.01695728302001953}\n",
      "{'Model': 'LassoLarsCV', 'R-Squared': 0.7285094905956555, 'Adjusted R-Squared': 0.7134266845176364, 'RMSE': 6255.453996949883, 'Time taken': 0.03490781784057617}\n",
      "{'Model': 'LassoLarsIC', 'R-Squared': 0.729836433139299, 'Adjusted R-Squared': 0.7148273460914822, 'RMSE': 6240.148129538943, 'Time taken': 0.02292656898498535}\n",
      "{'Model': 'LinearRegression', 'R-Squared': 0.7303130998448943, 'Adjusted R-Squared': 0.7153304942807218, 'RMSE': 6234.640754772447, 'Time taken': 0.011967897415161133}\n"
     ]
    },
    {
     "name": "stderr",
     "output_type": "stream",
     "text": [
      "\r",
      " 60%|█████▉    | 25/42 [00:02<00:01, 13.43it/s]"
     ]
    },
    {
     "name": "stdout",
     "output_type": "stream",
     "text": [
      "{'Model': 'LinearSVR', 'R-Squared': -1.0344373827459865, 'Adjusted R-Squared': -1.1474616817874304, 'RMSE': 17123.939000526825, 'Time taken': 0.015957355499267578}\n"
     ]
    },
    {
     "name": "stderr",
     "output_type": "stream",
     "text": [
      "\r",
      " 67%|██████▋   | 28/42 [00:03<00:02,  5.99it/s]"
     ]
    },
    {
     "name": "stdout",
     "output_type": "stream",
     "text": [
      "{'Model': 'MLPRegressor', 'R-Squared': -1.0490197617340047, 'Adjusted R-Squared': -1.1628541929414493, 'RMSE': 17185.19964804943, 'Time taken': 1.1492903232574463}\n",
      "{'Model': 'NuSVR', 'R-Squared': -0.03886580732577993, 'Adjusted R-Squared': -0.09658057439943435, 'RMSE': 12236.61326795866, 'Time taken': 0.08921599388122559}\n",
      "{'Model': 'OrthogonalMatchingPursuit', 'R-Squared': 0.6240386889693366, 'Adjusted R-Squared': 0.603151949467633, 'RMSE': 7361.275743077503, 'Time taken': 0.00897836685180664}\n",
      "{'Model': 'OrthogonalMatchingPursuitCV', 'R-Squared': 0.7301859166165494, 'Adjusted R-Squared': 0.7151962453174688, 'RMSE': 6236.110696904103, 'Time taken': 0.026964187622070312}\n",
      "{'Model': 'PassiveAggressiveRegressor', 'R-Squared': 0.7193040546966255, 'Adjusted R-Squared': 0.7037098355131046, 'RMSE': 6360.621868163811, 'Time taken': 0.017914772033691406}\n",
      "{'Model': 'PoissonRegressor', 'R-Squared': 0.7422083523805698, 'Adjusted R-Squared': 0.7278865941794903, 'RMSE': 6095.592548998353, 'Time taken': 0.016992807388305664}\n"
     ]
    },
    {
     "name": "stderr",
     "output_type": "stream",
     "text": [
      " 76%|███████▌  | 32/42 [00:30<00:23,  2.35s/it]"
     ]
    },
    {
     "name": "stdout",
     "output_type": "stream",
     "text": [
      "{'Model': 'QuantileRegressor', 'R-Squared': -0.104951983885891, 'Adjusted R-Squared': -0.166338205212885, 'RMSE': 12619.821479617614, 'Time taken': 26.24748468399048}\n",
      "{'Model': 'RANSACRegressor', 'R-Squared': 0.6518141126858492, 'Adjusted R-Squared': 0.6324704522795075, 'RMSE': 7084.139269705852, 'Time taken': 0.08887290954589844}\n"
     ]
    },
    {
     "name": "stderr",
     "output_type": "stream",
     "text": [
      " 90%|█████████ | 38/42 [00:30<00:05,  1.27s/it]"
     ]
    },
    {
     "name": "stdout",
     "output_type": "stream",
     "text": [
      "{'Model': 'RandomForestRegressor', 'R-Squared': 0.8144018042421338, 'Adjusted R-Squared': 0.8040907933666968, 'RMSE': 5172.11750971136, 'Time taken': 0.47372937202453613}\n",
      "{'Model': 'Ridge', 'R-Squared': 0.7302900724421173, 'Adjusted R-Squared': 0.7153061875777904, 'RMSE': 6234.906923650551, 'Time taken': 0.014962196350097656}\n",
      "{'Model': 'RidgeCV', 'R-Squared': 0.7300707041986372, 'Adjusted R-Squared': 0.7150746322096726, 'RMSE': 6237.44198528694, 'Time taken': 0.015955209732055664}\n",
      "{'Model': 'SGDRegressor', 'R-Squared': 0.7295316743329322, 'Adjusted R-Squared': 0.7145056562403174, 'RMSE': 6243.666746249569, 'Time taken': 0.012965202331542969}\n",
      "{'Model': 'SVR', 'R-Squared': -0.0997416292364286, 'Adjusted R-Squared': -0.16083838641623016, 'RMSE': 12590.032201650354, 'Time taken': 0.14960098266601562}\n"
     ]
    },
    {
     "name": "stderr",
     "output_type": "stream",
     "text": [
      "\r",
      " 98%|█████████▊| 41/42 [00:31<00:00,  1.07it/s]"
     ]
    },
    {
     "name": "stdout",
     "output_type": "stream",
     "text": [
      "{'Model': 'TransformedTargetRegressor', 'R-Squared': 0.7303130998448943, 'Adjusted R-Squared': 0.7153304942807218, 'RMSE': 6234.640754772447, 'Time taken': 0.016954421997070312}\n",
      "{'Model': 'TweedieRegressor', 'R-Squared': 0.6444097353016321, 'Adjusted R-Squared': 0.6246547205961672, 'RMSE': 7159.067209641754, 'Time taken': 0.024936437606811523}\n",
      "{'Model': 'XGBRegressor', 'R-Squared': 0.7968225534821176, 'Adjusted R-Squared': 0.7855349175644575, 'RMSE': 5411.519869295807, 'Time taken': 0.15142297744750977}\n"
     ]
    },
    {
     "name": "stderr",
     "output_type": "stream",
     "text": [
      "\r",
      "100%|██████████| 42/42 [00:31<00:00,  1.34it/s]"
     ]
    },
    {
     "name": "stdout",
     "output_type": "stream",
     "text": [
      "{'Model': 'LGBMRegressor', 'R-Squared': 0.8159465903814099, 'Adjusted R-Squared': 0.8057214009581549, 'RMSE': 5150.548037201607, 'Time taken': 0.1386275291442871}\n"
     ]
    },
    {
     "name": "stderr",
     "output_type": "stream",
     "text": [
      "\n"
     ]
    }
   ],
   "source": [
    "#using the lazy predict to get \n",
    "from lazypredict.Supervised import LazyRegressor\n",
    "##getting an overview for the performance for each of the regression algorithms\n",
    "reg = LazyRegressor(verbose = True, ignore_warnings = True, custom_metric = None)\n",
    "models, predictions = reg.fit(X_train, X_test, y_train, y_test)"
   ]
  },
  {
   "cell_type": "code",
   "execution_count": 38,
   "id": "273dc25e",
   "metadata": {},
   "outputs": [
    {
     "data": {
      "text/html": [
       "<div>\n",
       "<style scoped>\n",
       "    .dataframe tbody tr th:only-of-type {\n",
       "        vertical-align: middle;\n",
       "    }\n",
       "\n",
       "    .dataframe tbody tr th {\n",
       "        vertical-align: top;\n",
       "    }\n",
       "\n",
       "    .dataframe thead th {\n",
       "        text-align: right;\n",
       "    }\n",
       "</style>\n",
       "<table border=\"1\" class=\"dataframe\">\n",
       "  <thead>\n",
       "    <tr style=\"text-align: right;\">\n",
       "      <th></th>\n",
       "      <th>Adjusted R-Squared</th>\n",
       "      <th>R-Squared</th>\n",
       "      <th>RMSE</th>\n",
       "      <th>Time Taken</th>\n",
       "    </tr>\n",
       "    <tr>\n",
       "      <th>Model</th>\n",
       "      <th></th>\n",
       "      <th></th>\n",
       "      <th></th>\n",
       "      <th></th>\n",
       "    </tr>\n",
       "  </thead>\n",
       "  <tbody>\n",
       "    <tr>\n",
       "      <th>GradientBoostingRegressor</th>\n",
       "      <td>0.83</td>\n",
       "      <td>0.84</td>\n",
       "      <td>4835.69</td>\n",
       "      <td>0.21</td>\n",
       "    </tr>\n",
       "    <tr>\n",
       "      <th>LGBMRegressor</th>\n",
       "      <td>0.81</td>\n",
       "      <td>0.82</td>\n",
       "      <td>5150.55</td>\n",
       "      <td>0.14</td>\n",
       "    </tr>\n",
       "    <tr>\n",
       "      <th>HistGradientBoostingRegressor</th>\n",
       "      <td>0.81</td>\n",
       "      <td>0.82</td>\n",
       "      <td>5154.90</td>\n",
       "      <td>0.88</td>\n",
       "    </tr>\n",
       "    <tr>\n",
       "      <th>RandomForestRegressor</th>\n",
       "      <td>0.80</td>\n",
       "      <td>0.81</td>\n",
       "      <td>5172.12</td>\n",
       "      <td>0.47</td>\n",
       "    </tr>\n",
       "    <tr>\n",
       "      <th>BaggingRegressor</th>\n",
       "      <td>0.79</td>\n",
       "      <td>0.80</td>\n",
       "      <td>5332.96</td>\n",
       "      <td>0.08</td>\n",
       "    </tr>\n",
       "    <tr>\n",
       "      <th>ExtraTreesRegressor</th>\n",
       "      <td>0.79</td>\n",
       "      <td>0.80</td>\n",
       "      <td>5355.36</td>\n",
       "      <td>0.49</td>\n",
       "    </tr>\n",
       "    <tr>\n",
       "      <th>XGBRegressor</th>\n",
       "      <td>0.79</td>\n",
       "      <td>0.80</td>\n",
       "      <td>5411.52</td>\n",
       "      <td>0.15</td>\n",
       "    </tr>\n",
       "    <tr>\n",
       "      <th>AdaBoostRegressor</th>\n",
       "      <td>0.78</td>\n",
       "      <td>0.80</td>\n",
       "      <td>5423.54</td>\n",
       "      <td>0.07</td>\n",
       "    </tr>\n",
       "    <tr>\n",
       "      <th>PoissonRegressor</th>\n",
       "      <td>0.73</td>\n",
       "      <td>0.74</td>\n",
       "      <td>6095.59</td>\n",
       "      <td>0.02</td>\n",
       "    </tr>\n",
       "    <tr>\n",
       "      <th>LinearRegression</th>\n",
       "      <td>0.72</td>\n",
       "      <td>0.73</td>\n",
       "      <td>6234.64</td>\n",
       "      <td>0.01</td>\n",
       "    </tr>\n",
       "    <tr>\n",
       "      <th>TransformedTargetRegressor</th>\n",
       "      <td>0.72</td>\n",
       "      <td>0.73</td>\n",
       "      <td>6234.64</td>\n",
       "      <td>0.02</td>\n",
       "    </tr>\n",
       "    <tr>\n",
       "      <th>Lasso</th>\n",
       "      <td>0.72</td>\n",
       "      <td>0.73</td>\n",
       "      <td>6234.67</td>\n",
       "      <td>0.03</td>\n",
       "    </tr>\n",
       "    <tr>\n",
       "      <th>Ridge</th>\n",
       "      <td>0.72</td>\n",
       "      <td>0.73</td>\n",
       "      <td>6234.91</td>\n",
       "      <td>0.01</td>\n",
       "    </tr>\n",
       "    <tr>\n",
       "      <th>OrthogonalMatchingPursuitCV</th>\n",
       "      <td>0.72</td>\n",
       "      <td>0.73</td>\n",
       "      <td>6236.11</td>\n",
       "      <td>0.03</td>\n",
       "    </tr>\n",
       "    <tr>\n",
       "      <th>BayesianRidge</th>\n",
       "      <td>0.72</td>\n",
       "      <td>0.73</td>\n",
       "      <td>6237.26</td>\n",
       "      <td>0.04</td>\n",
       "    </tr>\n",
       "    <tr>\n",
       "      <th>RidgeCV</th>\n",
       "      <td>0.72</td>\n",
       "      <td>0.73</td>\n",
       "      <td>6237.44</td>\n",
       "      <td>0.02</td>\n",
       "    </tr>\n",
       "    <tr>\n",
       "      <th>Lars</th>\n",
       "      <td>0.71</td>\n",
       "      <td>0.73</td>\n",
       "      <td>6238.27</td>\n",
       "      <td>0.02</td>\n",
       "    </tr>\n",
       "    <tr>\n",
       "      <th>LassoLars</th>\n",
       "      <td>0.71</td>\n",
       "      <td>0.73</td>\n",
       "      <td>6240.09</td>\n",
       "      <td>0.02</td>\n",
       "    </tr>\n",
       "    <tr>\n",
       "      <th>LassoLarsIC</th>\n",
       "      <td>0.71</td>\n",
       "      <td>0.73</td>\n",
       "      <td>6240.15</td>\n",
       "      <td>0.02</td>\n",
       "    </tr>\n",
       "    <tr>\n",
       "      <th>SGDRegressor</th>\n",
       "      <td>0.71</td>\n",
       "      <td>0.73</td>\n",
       "      <td>6243.67</td>\n",
       "      <td>0.01</td>\n",
       "    </tr>\n",
       "    <tr>\n",
       "      <th>LassoLarsCV</th>\n",
       "      <td>0.71</td>\n",
       "      <td>0.73</td>\n",
       "      <td>6255.45</td>\n",
       "      <td>0.03</td>\n",
       "    </tr>\n",
       "    <tr>\n",
       "      <th>LarsCV</th>\n",
       "      <td>0.71</td>\n",
       "      <td>0.73</td>\n",
       "      <td>6255.45</td>\n",
       "      <td>0.05</td>\n",
       "    </tr>\n",
       "    <tr>\n",
       "      <th>LassoCV</th>\n",
       "      <td>0.71</td>\n",
       "      <td>0.73</td>\n",
       "      <td>6269.80</td>\n",
       "      <td>0.10</td>\n",
       "    </tr>\n",
       "    <tr>\n",
       "      <th>HuberRegressor</th>\n",
       "      <td>0.70</td>\n",
       "      <td>0.72</td>\n",
       "      <td>6354.47</td>\n",
       "      <td>0.04</td>\n",
       "    </tr>\n",
       "    <tr>\n",
       "      <th>PassiveAggressiveRegressor</th>\n",
       "      <td>0.70</td>\n",
       "      <td>0.72</td>\n",
       "      <td>6360.62</td>\n",
       "      <td>0.02</td>\n",
       "    </tr>\n",
       "    <tr>\n",
       "      <th>KNeighborsRegressor</th>\n",
       "      <td>0.68</td>\n",
       "      <td>0.70</td>\n",
       "      <td>6561.48</td>\n",
       "      <td>0.04</td>\n",
       "    </tr>\n",
       "    <tr>\n",
       "      <th>ElasticNet</th>\n",
       "      <td>0.68</td>\n",
       "      <td>0.70</td>\n",
       "      <td>6627.96</td>\n",
       "      <td>0.02</td>\n",
       "    </tr>\n",
       "    <tr>\n",
       "      <th>RANSACRegressor</th>\n",
       "      <td>0.63</td>\n",
       "      <td>0.65</td>\n",
       "      <td>7084.14</td>\n",
       "      <td>0.09</td>\n",
       "    </tr>\n",
       "    <tr>\n",
       "      <th>TweedieRegressor</th>\n",
       "      <td>0.62</td>\n",
       "      <td>0.64</td>\n",
       "      <td>7159.07</td>\n",
       "      <td>0.02</td>\n",
       "    </tr>\n",
       "    <tr>\n",
       "      <th>DecisionTreeRegressor</th>\n",
       "      <td>0.62</td>\n",
       "      <td>0.64</td>\n",
       "      <td>7247.37</td>\n",
       "      <td>0.02</td>\n",
       "    </tr>\n",
       "    <tr>\n",
       "      <th>OrthogonalMatchingPursuit</th>\n",
       "      <td>0.60</td>\n",
       "      <td>0.62</td>\n",
       "      <td>7361.28</td>\n",
       "      <td>0.01</td>\n",
       "    </tr>\n",
       "    <tr>\n",
       "      <th>ExtraTreeRegressor</th>\n",
       "      <td>0.60</td>\n",
       "      <td>0.62</td>\n",
       "      <td>7421.80</td>\n",
       "      <td>0.02</td>\n",
       "    </tr>\n",
       "    <tr>\n",
       "      <th>GammaRegressor</th>\n",
       "      <td>0.59</td>\n",
       "      <td>0.61</td>\n",
       "      <td>7496.97</td>\n",
       "      <td>0.03</td>\n",
       "    </tr>\n",
       "    <tr>\n",
       "      <th>ElasticNetCV</th>\n",
       "      <td>0.20</td>\n",
       "      <td>0.24</td>\n",
       "      <td>10463.18</td>\n",
       "      <td>0.11</td>\n",
       "    </tr>\n",
       "    <tr>\n",
       "      <th>DummyRegressor</th>\n",
       "      <td>-0.06</td>\n",
       "      <td>-0.00</td>\n",
       "      <td>12005.70</td>\n",
       "      <td>0.01</td>\n",
       "    </tr>\n",
       "    <tr>\n",
       "      <th>NuSVR</th>\n",
       "      <td>-0.10</td>\n",
       "      <td>-0.04</td>\n",
       "      <td>12236.61</td>\n",
       "      <td>0.09</td>\n",
       "    </tr>\n",
       "    <tr>\n",
       "      <th>SVR</th>\n",
       "      <td>-0.16</td>\n",
       "      <td>-0.10</td>\n",
       "      <td>12590.03</td>\n",
       "      <td>0.15</td>\n",
       "    </tr>\n",
       "    <tr>\n",
       "      <th>QuantileRegressor</th>\n",
       "      <td>-0.17</td>\n",
       "      <td>-0.10</td>\n",
       "      <td>12619.82</td>\n",
       "      <td>26.25</td>\n",
       "    </tr>\n",
       "    <tr>\n",
       "      <th>KernelRidge</th>\n",
       "      <td>-0.67</td>\n",
       "      <td>-0.58</td>\n",
       "      <td>15104.01</td>\n",
       "      <td>0.06</td>\n",
       "    </tr>\n",
       "    <tr>\n",
       "      <th>GaussianProcessRegressor</th>\n",
       "      <td>-0.86</td>\n",
       "      <td>-0.77</td>\n",
       "      <td>15954.22</td>\n",
       "      <td>0.16</td>\n",
       "    </tr>\n",
       "    <tr>\n",
       "      <th>LinearSVR</th>\n",
       "      <td>-1.15</td>\n",
       "      <td>-1.03</td>\n",
       "      <td>17123.94</td>\n",
       "      <td>0.02</td>\n",
       "    </tr>\n",
       "    <tr>\n",
       "      <th>MLPRegressor</th>\n",
       "      <td>-1.16</td>\n",
       "      <td>-1.05</td>\n",
       "      <td>17185.20</td>\n",
       "      <td>1.15</td>\n",
       "    </tr>\n",
       "  </tbody>\n",
       "</table>\n",
       "</div>"
      ],
      "text/plain": [
       "                               Adjusted R-Squared  R-Squared     RMSE  \\\n",
       "Model                                                                   \n",
       "GradientBoostingRegressor                    0.83       0.84  4835.69   \n",
       "LGBMRegressor                                0.81       0.82  5150.55   \n",
       "HistGradientBoostingRegressor                0.81       0.82  5154.90   \n",
       "RandomForestRegressor                        0.80       0.81  5172.12   \n",
       "BaggingRegressor                             0.79       0.80  5332.96   \n",
       "ExtraTreesRegressor                          0.79       0.80  5355.36   \n",
       "XGBRegressor                                 0.79       0.80  5411.52   \n",
       "AdaBoostRegressor                            0.78       0.80  5423.54   \n",
       "PoissonRegressor                             0.73       0.74  6095.59   \n",
       "LinearRegression                             0.72       0.73  6234.64   \n",
       "TransformedTargetRegressor                   0.72       0.73  6234.64   \n",
       "Lasso                                        0.72       0.73  6234.67   \n",
       "Ridge                                        0.72       0.73  6234.91   \n",
       "OrthogonalMatchingPursuitCV                  0.72       0.73  6236.11   \n",
       "BayesianRidge                                0.72       0.73  6237.26   \n",
       "RidgeCV                                      0.72       0.73  6237.44   \n",
       "Lars                                         0.71       0.73  6238.27   \n",
       "LassoLars                                    0.71       0.73  6240.09   \n",
       "LassoLarsIC                                  0.71       0.73  6240.15   \n",
       "SGDRegressor                                 0.71       0.73  6243.67   \n",
       "LassoLarsCV                                  0.71       0.73  6255.45   \n",
       "LarsCV                                       0.71       0.73  6255.45   \n",
       "LassoCV                                      0.71       0.73  6269.80   \n",
       "HuberRegressor                               0.70       0.72  6354.47   \n",
       "PassiveAggressiveRegressor                   0.70       0.72  6360.62   \n",
       "KNeighborsRegressor                          0.68       0.70  6561.48   \n",
       "ElasticNet                                   0.68       0.70  6627.96   \n",
       "RANSACRegressor                              0.63       0.65  7084.14   \n",
       "TweedieRegressor                             0.62       0.64  7159.07   \n",
       "DecisionTreeRegressor                        0.62       0.64  7247.37   \n",
       "OrthogonalMatchingPursuit                    0.60       0.62  7361.28   \n",
       "ExtraTreeRegressor                           0.60       0.62  7421.80   \n",
       "GammaRegressor                               0.59       0.61  7496.97   \n",
       "ElasticNetCV                                 0.20       0.24 10463.18   \n",
       "DummyRegressor                              -0.06      -0.00 12005.70   \n",
       "NuSVR                                       -0.10      -0.04 12236.61   \n",
       "SVR                                         -0.16      -0.10 12590.03   \n",
       "QuantileRegressor                           -0.17      -0.10 12619.82   \n",
       "KernelRidge                                 -0.67      -0.58 15104.01   \n",
       "GaussianProcessRegressor                    -0.86      -0.77 15954.22   \n",
       "LinearSVR                                   -1.15      -1.03 17123.94   \n",
       "MLPRegressor                                -1.16      -1.05 17185.20   \n",
       "\n",
       "                               Time Taken  \n",
       "Model                                      \n",
       "GradientBoostingRegressor            0.21  \n",
       "LGBMRegressor                        0.14  \n",
       "HistGradientBoostingRegressor        0.88  \n",
       "RandomForestRegressor                0.47  \n",
       "BaggingRegressor                     0.08  \n",
       "ExtraTreesRegressor                  0.49  \n",
       "XGBRegressor                         0.15  \n",
       "AdaBoostRegressor                    0.07  \n",
       "PoissonRegressor                     0.02  \n",
       "LinearRegression                     0.01  \n",
       "TransformedTargetRegressor           0.02  \n",
       "Lasso                                0.03  \n",
       "Ridge                                0.01  \n",
       "OrthogonalMatchingPursuitCV          0.03  \n",
       "BayesianRidge                        0.04  \n",
       "RidgeCV                              0.02  \n",
       "Lars                                 0.02  \n",
       "LassoLars                            0.02  \n",
       "LassoLarsIC                          0.02  \n",
       "SGDRegressor                         0.01  \n",
       "LassoLarsCV                          0.03  \n",
       "LarsCV                               0.05  \n",
       "LassoCV                              0.10  \n",
       "HuberRegressor                       0.04  \n",
       "PassiveAggressiveRegressor           0.02  \n",
       "KNeighborsRegressor                  0.04  \n",
       "ElasticNet                           0.02  \n",
       "RANSACRegressor                      0.09  \n",
       "TweedieRegressor                     0.02  \n",
       "DecisionTreeRegressor                0.02  \n",
       "OrthogonalMatchingPursuit            0.01  \n",
       "ExtraTreeRegressor                   0.02  \n",
       "GammaRegressor                       0.03  \n",
       "ElasticNetCV                         0.11  \n",
       "DummyRegressor                       0.01  \n",
       "NuSVR                                0.09  \n",
       "SVR                                  0.15  \n",
       "QuantileRegressor                   26.25  \n",
       "KernelRidge                          0.06  \n",
       "GaussianProcessRegressor             0.16  \n",
       "LinearSVR                            0.02  \n",
       "MLPRegressor                         1.15  "
      ]
     },
     "execution_count": 38,
     "metadata": {},
     "output_type": "execute_result"
    }
   ],
   "source": [
    "#performace for each model\n",
    "pd.DataFrame(models)"
   ]
  },
  {
   "cell_type": "markdown",
   "id": "7fed8ed6",
   "metadata": {},
   "source": [
    "When fitting multiple models to a dataset, it is common practice to evaluate and compare their performance to select the best model as the final choice. In this approach, we train and evaluate each model individually, without relying on automated model selection techniques like \"Lazy Predict.\"\n",
    "\n",
    "By fitting models manually, we have more control over the training process and can fine-tune the hyperparameters and other settings specific to each model. We then evaluate the models using appropriate evaluation metrics, such as mean squared error (MSE), R-squared, or other relevant metrics based on the problem at hand.\n",
    "\n",
    "After evaluating the models, we can compare their performance and select the one that achieves the best results according to the evaluation metrics. This approach allows us to make an informed decision on the final model that is most suitable for the given dataset and problem."
   ]
  },
  {
   "cell_type": "markdown",
   "id": "6038f51f",
   "metadata": {},
   "source": [
    "**Linear Regression**"
   ]
  },
  {
   "cell_type": "code",
   "execution_count": 39,
   "id": "a6125571",
   "metadata": {},
   "outputs": [
    {
     "name": "stdout",
     "output_type": "stream",
     "text": [
      "Mean Squared Error (MSE): 38870745.34106953\n",
      "R-squared: 0.7303130998448946\n"
     ]
    }
   ],
   "source": [
    "from sklearn.linear_model import LinearRegression\n",
    "from sklearn.metrics import mean_squared_error, r2_score\n",
    "\n",
    "# Create a linear regression model\n",
    "lin_reg = LinearRegression()\n",
    "\n",
    "# Fit the model on the training data\n",
    "lin_reg.fit(X_train, y_train)\n",
    "\n",
    "# Make predictions on the test data\n",
    "y_pred = lin_reg.predict(X_test)\n",
    "\n",
    "# Evaluate the model\n",
    "mse = mean_squared_error(y_test, y_pred)\n",
    "r2 = r2_score(y_test, y_pred)\n",
    "\n",
    "# Print the evaluation metrics\n",
    "print(\"Mean Squared Error (MSE):\", mse)\n",
    "print(\"R-squared:\", r2)\n"
   ]
  },
  {
   "cell_type": "markdown",
   "id": "8f5dc96b",
   "metadata": {},
   "source": [
    "**Gradient Boosting**"
   ]
  },
  {
   "cell_type": "code",
   "execution_count": 40,
   "id": "db71083d",
   "metadata": {},
   "outputs": [
    {
     "name": "stdout",
     "output_type": "stream",
     "text": [
      "Gradient Boosting Performance:\n",
      "Mean Squared Error: 23405312.959664494\n",
      "R-squared: 0.8376129337406125\n"
     ]
    }
   ],
   "source": [
    "from sklearn.ensemble import GradientBoostingRegressor\n",
    "from sklearn.metrics import mean_squared_error, r2_score\n",
    "\n",
    "# Fit the Gradient Boosting model\n",
    "gbr = GradientBoostingRegressor()\n",
    "gbr.fit(X_train, y_train)\n",
    "\n",
    "# Make predictions on the test data\n",
    "y_pred_gbr = gbr.predict(X_test)\n",
    "# Evaluate the model\n",
    "mse_gbr = mean_squared_error(y_test, y_pred_gbr)\n",
    "r2_gbr = r2_score(y_test, y_pred_gbr)\n",
    "\n",
    "print(\"Gradient Boosting Performance:\")\n",
    "print(\"Mean Squared Error:\", mse_gbr)\n",
    "print(\"R-squared:\", r2_gbr)"
   ]
  },
  {
   "cell_type": "markdown",
   "id": "bd4188f8",
   "metadata": {},
   "source": [
    "**XGBoost Regressor**"
   ]
  },
  {
   "cell_type": "code",
   "execution_count": 41,
   "id": "206eb16e",
   "metadata": {},
   "outputs": [
    {
     "name": "stdout",
     "output_type": "stream",
     "text": [
      "\n",
      "XGBoost Performance:\n",
      "Mean Squared Error: 29093733.3320952\n",
      "R-squared: 0.7981464289550941\n"
     ]
    }
   ],
   "source": [
    "from xgboost import XGBRegressor\n",
    "\n",
    "# Fit the XGBoost model\n",
    "xgb = XGBRegressor()\n",
    "xgb.fit(X_train, y_train)\n",
    "\n",
    "# Make predictions on the test data\n",
    "y_pred_xgb = xgb.predict(X_test)\n",
    "\n",
    "# Evaluate the models\n",
    "mse_xgb = mean_squared_error(y_test, y_pred_xgb)\n",
    "r2_xgb = r2_score(y_test, y_pred_xgb)\n",
    "\n",
    "print(\"\\nXGBoost Performance:\")\n",
    "print(\"Mean Squared Error:\", mse_xgb)\n",
    "print(\"R-squared:\", r2_xgb)"
   ]
  },
  {
   "cell_type": "markdown",
   "id": "c230eb05",
   "metadata": {},
   "source": [
    "**Deep Learning Approach with TensorFlow and Keras**"
   ]
  },
  {
   "cell_type": "markdown",
   "id": "7e394051",
   "metadata": {},
   "source": [
    "Deep learning allows us to model complex patterns and relationships in the data, which can be beneficial for predicting insurance claims accurately.\n",
    "The use of neural networks with multiple layers and non-linear activation functions helps capture intricate patterns that may not be captured by traditional regression models.\n",
    "Deep learning has the ability to handle both numerical and categorical features, eliminating the need for extensive preprocessing and encoding.\n",
    "it can potentially learn more nuanced patterns and make more accurate predictions.\n",
    "Deep learning models, with proper tuning and optimization, have the potential to outperform other traditional regression algorithms, providing better predictive power for insurance claim estimation."
   ]
  },
  {
   "cell_type": "code",
   "execution_count": 42,
   "id": "12bafe59",
   "metadata": {
    "scrolled": true
   },
   "outputs": [
    {
     "name": "stdout",
     "output_type": "stream",
     "text": [
      "Epoch 1/100\n",
      "34/34 [==============================] - 1s 8ms/step - loss: 324990752.0000 - val_loss: 320279712.0000\n",
      "Epoch 2/100\n",
      "34/34 [==============================] - 0s 3ms/step - loss: 324815616.0000 - val_loss: 319954464.0000\n",
      "Epoch 3/100\n",
      "34/34 [==============================] - 0s 3ms/step - loss: 324202592.0000 - val_loss: 318930208.0000\n",
      "Epoch 4/100\n",
      "34/34 [==============================] - 0s 3ms/step - loss: 322573376.0000 - val_loss: 316530048.0000\n",
      "Epoch 5/100\n",
      "34/34 [==============================] - 0s 3ms/step - loss: 319151296.0000 - val_loss: 311973024.0000\n",
      "Epoch 6/100\n",
      "34/34 [==============================] - 0s 3ms/step - loss: 313153408.0000 - val_loss: 304635552.0000\n",
      "Epoch 7/100\n",
      "34/34 [==============================] - 0s 3ms/step - loss: 304174688.0000 - val_loss: 294037440.0000\n",
      "Epoch 8/100\n",
      "34/34 [==============================] - 0s 3ms/step - loss: 291897472.0000 - val_loss: 280398432.0000\n",
      "Epoch 9/100\n",
      "34/34 [==============================] - 0s 3ms/step - loss: 276370560.0000 - val_loss: 263530896.0000\n",
      "Epoch 10/100\n",
      "34/34 [==============================] - 0s 3ms/step - loss: 258267168.0000 - val_loss: 244244480.0000\n",
      "Epoch 11/100\n",
      "34/34 [==============================] - 0s 3ms/step - loss: 238010944.0000 - val_loss: 223784096.0000\n",
      "Epoch 12/100\n",
      "34/34 [==============================] - 0s 3ms/step - loss: 216594256.0000 - val_loss: 202760544.0000\n",
      "Epoch 13/100\n",
      "34/34 [==============================] - 0s 3ms/step - loss: 195628672.0000 - val_loss: 182782880.0000\n",
      "Epoch 14/100\n",
      "34/34 [==============================] - 0s 3ms/step - loss: 175917440.0000 - val_loss: 164573632.0000\n",
      "Epoch 15/100\n",
      "34/34 [==============================] - 0s 3ms/step - loss: 158259600.0000 - val_loss: 148791776.0000\n",
      "Epoch 16/100\n",
      "34/34 [==============================] - 0s 3ms/step - loss: 143813520.0000 - val_loss: 136527584.0000\n",
      "Epoch 17/100\n",
      "34/34 [==============================] - 0s 3ms/step - loss: 132463176.0000 - val_loss: 126451072.0000\n",
      "Epoch 18/100\n",
      "34/34 [==============================] - 0s 3ms/step - loss: 123604168.0000 - val_loss: 118975752.0000\n",
      "Epoch 19/100\n",
      "34/34 [==============================] - 0s 3ms/step - loss: 117122872.0000 - val_loss: 113284800.0000\n",
      "Epoch 20/100\n",
      "34/34 [==============================] - 0s 3ms/step - loss: 112052816.0000 - val_loss: 108848112.0000\n",
      "Epoch 21/100\n",
      "34/34 [==============================] - 0s 3ms/step - loss: 107428648.0000 - val_loss: 104684376.0000\n",
      "Epoch 22/100\n",
      "34/34 [==============================] - 0s 3ms/step - loss: 103726040.0000 - val_loss: 101011880.0000\n",
      "Epoch 23/100\n",
      "34/34 [==============================] - 0s 3ms/step - loss: 100349024.0000 - val_loss: 97744880.0000\n",
      "Epoch 24/100\n",
      "34/34 [==============================] - 0s 3ms/step - loss: 97310160.0000 - val_loss: 94882208.0000\n",
      "Epoch 25/100\n",
      "34/34 [==============================] - 0s 3ms/step - loss: 94502960.0000 - val_loss: 92020720.0000\n",
      "Epoch 26/100\n",
      "34/34 [==============================] - 0s 3ms/step - loss: 91776144.0000 - val_loss: 89552936.0000\n",
      "Epoch 27/100\n",
      "34/34 [==============================] - 0s 3ms/step - loss: 89272696.0000 - val_loss: 87024920.0000\n",
      "Epoch 28/100\n",
      "34/34 [==============================] - 0s 3ms/step - loss: 86905232.0000 - val_loss: 84617312.0000\n",
      "Epoch 29/100\n",
      "34/34 [==============================] - 0s 3ms/step - loss: 84624888.0000 - val_loss: 82289352.0000\n",
      "Epoch 30/100\n",
      "34/34 [==============================] - 0s 3ms/step - loss: 82464968.0000 - val_loss: 80189808.0000\n",
      "Epoch 31/100\n",
      "34/34 [==============================] - 0s 3ms/step - loss: 80491208.0000 - val_loss: 78098720.0000\n",
      "Epoch 32/100\n",
      "34/34 [==============================] - 0s 3ms/step - loss: 78509504.0000 - val_loss: 76286048.0000\n",
      "Epoch 33/100\n",
      "34/34 [==============================] - 0s 3ms/step - loss: 76762568.0000 - val_loss: 74469248.0000\n",
      "Epoch 34/100\n",
      "34/34 [==============================] - 0s 3ms/step - loss: 75025584.0000 - val_loss: 72596968.0000\n",
      "Epoch 35/100\n",
      "34/34 [==============================] - 0s 3ms/step - loss: 73400192.0000 - val_loss: 71059896.0000\n",
      "Epoch 36/100\n",
      "34/34 [==============================] - 0s 3ms/step - loss: 71919984.0000 - val_loss: 69571520.0000\n",
      "Epoch 37/100\n",
      "34/34 [==============================] - 0s 3ms/step - loss: 70550800.0000 - val_loss: 68034216.0000\n",
      "Epoch 38/100\n",
      "34/34 [==============================] - 0s 3ms/step - loss: 69114520.0000 - val_loss: 66654148.0000\n",
      "Epoch 39/100\n",
      "34/34 [==============================] - 0s 3ms/step - loss: 67826544.0000 - val_loss: 65402628.0000\n",
      "Epoch 40/100\n",
      "34/34 [==============================] - 0s 3ms/step - loss: 66644444.0000 - val_loss: 64079916.0000\n",
      "Epoch 41/100\n",
      "34/34 [==============================] - 0s 3ms/step - loss: 65469156.0000 - val_loss: 62902488.0000\n",
      "Epoch 42/100\n",
      "34/34 [==============================] - 0s 3ms/step - loss: 64408432.0000 - val_loss: 61809788.0000\n",
      "Epoch 43/100\n",
      "34/34 [==============================] - 0s 3ms/step - loss: 63395860.0000 - val_loss: 60751392.0000\n",
      "Epoch 44/100\n",
      "34/34 [==============================] - 0s 3ms/step - loss: 62493772.0000 - val_loss: 59675452.0000\n",
      "Epoch 45/100\n",
      "34/34 [==============================] - 0s 3ms/step - loss: 61567640.0000 - val_loss: 58731416.0000\n",
      "Epoch 46/100\n",
      "34/34 [==============================] - 0s 3ms/step - loss: 60666140.0000 - val_loss: 57568312.0000\n",
      "Epoch 47/100\n",
      "34/34 [==============================] - 0s 3ms/step - loss: 59820432.0000 - val_loss: 56659964.0000\n",
      "Epoch 48/100\n",
      "34/34 [==============================] - 0s 3ms/step - loss: 58981580.0000 - val_loss: 55822348.0000\n",
      "Epoch 49/100\n",
      "34/34 [==============================] - 0s 3ms/step - loss: 58283452.0000 - val_loss: 54891600.0000\n",
      "Epoch 50/100\n",
      "34/34 [==============================] - 0s 3ms/step - loss: 57504932.0000 - val_loss: 54218208.0000\n",
      "Epoch 51/100\n",
      "34/34 [==============================] - 0s 3ms/step - loss: 56833416.0000 - val_loss: 53487700.0000\n",
      "Epoch 52/100\n",
      "34/34 [==============================] - 0s 3ms/step - loss: 56170332.0000 - val_loss: 52581064.0000\n",
      "Epoch 53/100\n",
      "34/34 [==============================] - 0s 3ms/step - loss: 55467760.0000 - val_loss: 51831152.0000\n",
      "Epoch 54/100\n",
      "34/34 [==============================] - 0s 3ms/step - loss: 54897868.0000 - val_loss: 51263808.0000\n",
      "Epoch 55/100\n",
      "34/34 [==============================] - 0s 3ms/step - loss: 54247480.0000 - val_loss: 50375692.0000\n",
      "Epoch 56/100\n",
      "34/34 [==============================] - 0s 3ms/step - loss: 53649752.0000 - val_loss: 49819972.0000\n",
      "Epoch 57/100\n",
      "34/34 [==============================] - 0s 3ms/step - loss: 53072336.0000 - val_loss: 49194244.0000\n",
      "Epoch 58/100\n",
      "34/34 [==============================] - 0s 3ms/step - loss: 52565292.0000 - val_loss: 48604592.0000\n",
      "Epoch 59/100\n",
      "34/34 [==============================] - 0s 3ms/step - loss: 52034952.0000 - val_loss: 47941524.0000\n",
      "Epoch 60/100\n",
      "34/34 [==============================] - 0s 3ms/step - loss: 51526220.0000 - val_loss: 47432340.0000\n",
      "Epoch 61/100\n",
      "34/34 [==============================] - 0s 3ms/step - loss: 51055784.0000 - val_loss: 46868164.0000\n",
      "Epoch 62/100\n",
      "34/34 [==============================] - 0s 4ms/step - loss: 50604360.0000 - val_loss: 46314504.0000\n",
      "Epoch 63/100\n",
      "34/34 [==============================] - 0s 3ms/step - loss: 50121368.0000 - val_loss: 45843396.0000\n",
      "Epoch 64/100\n",
      "34/34 [==============================] - 0s 3ms/step - loss: 49686604.0000 - val_loss: 45322752.0000\n",
      "Epoch 65/100\n",
      "34/34 [==============================] - 0s 3ms/step - loss: 49306436.0000 - val_loss: 44843828.0000\n",
      "Epoch 66/100\n",
      "34/34 [==============================] - 0s 3ms/step - loss: 48903564.0000 - val_loss: 44385056.0000\n",
      "Epoch 67/100\n",
      "34/34 [==============================] - 0s 3ms/step - loss: 48550536.0000 - val_loss: 43988536.0000\n",
      "Epoch 68/100\n",
      "34/34 [==============================] - 0s 3ms/step - loss: 48172532.0000 - val_loss: 43530776.0000\n",
      "Epoch 69/100\n",
      "34/34 [==============================] - 0s 3ms/step - loss: 47826228.0000 - val_loss: 43205784.0000\n",
      "Epoch 70/100\n",
      "34/34 [==============================] - 0s 3ms/step - loss: 47523640.0000 - val_loss: 42839392.0000\n",
      "Epoch 71/100\n",
      "34/34 [==============================] - 0s 3ms/step - loss: 47246944.0000 - val_loss: 42360424.0000\n",
      "Epoch 72/100\n",
      "34/34 [==============================] - 0s 3ms/step - loss: 46945480.0000 - val_loss: 42013964.0000\n",
      "Epoch 73/100\n",
      "34/34 [==============================] - 0s 4ms/step - loss: 46705920.0000 - val_loss: 41695464.0000\n",
      "Epoch 74/100\n",
      "34/34 [==============================] - 0s 3ms/step - loss: 46412104.0000 - val_loss: 41430884.0000\n",
      "Epoch 75/100\n",
      "34/34 [==============================] - 0s 5ms/step - loss: 46194828.0000 - val_loss: 41145816.0000\n",
      "Epoch 76/100\n",
      "34/34 [==============================] - 0s 3ms/step - loss: 46000968.0000 - val_loss: 40856124.0000\n",
      "Epoch 77/100\n",
      "34/34 [==============================] - 0s 4ms/step - loss: 45765640.0000 - val_loss: 40661544.0000\n",
      "Epoch 78/100\n",
      "34/34 [==============================] - 0s 3ms/step - loss: 45584400.0000 - val_loss: 40435976.0000\n",
      "Epoch 79/100\n",
      "34/34 [==============================] - 0s 3ms/step - loss: 45378164.0000 - val_loss: 40207864.0000\n",
      "Epoch 80/100\n",
      "34/34 [==============================] - 0s 3ms/step - loss: 45202868.0000 - val_loss: 40000964.0000\n",
      "Epoch 81/100\n",
      "34/34 [==============================] - 0s 3ms/step - loss: 45055548.0000 - val_loss: 39749148.0000\n",
      "Epoch 82/100\n",
      "34/34 [==============================] - 0s 3ms/step - loss: 44909456.0000 - val_loss: 39662344.0000\n",
      "Epoch 83/100\n",
      "34/34 [==============================] - 0s 3ms/step - loss: 44759884.0000 - val_loss: 39465004.0000\n",
      "Epoch 84/100\n",
      "34/34 [==============================] - 0s 3ms/step - loss: 44615620.0000 - val_loss: 39299996.0000\n",
      "Epoch 85/100\n",
      "34/34 [==============================] - 0s 3ms/step - loss: 44528988.0000 - val_loss: 39118708.0000\n",
      "Epoch 86/100\n",
      "34/34 [==============================] - 0s 3ms/step - loss: 44413144.0000 - val_loss: 38954916.0000\n",
      "Epoch 87/100\n",
      "34/34 [==============================] - 0s 3ms/step - loss: 44270072.0000 - val_loss: 38764532.0000\n",
      "Epoch 88/100\n",
      "34/34 [==============================] - 0s 3ms/step - loss: 44177816.0000 - val_loss: 38707732.0000\n",
      "Epoch 89/100\n",
      "34/34 [==============================] - 0s 3ms/step - loss: 44084936.0000 - val_loss: 38638504.0000\n",
      "Epoch 90/100\n",
      "34/34 [==============================] - 0s 4ms/step - loss: 44001644.0000 - val_loss: 38404372.0000\n",
      "Epoch 91/100\n",
      "34/34 [==============================] - 0s 4ms/step - loss: 43910132.0000 - val_loss: 38405744.0000\n",
      "Epoch 92/100\n",
      "34/34 [==============================] - 0s 4ms/step - loss: 43816420.0000 - val_loss: 38243376.0000\n",
      "Epoch 93/100\n",
      "34/34 [==============================] - 0s 4ms/step - loss: 43766512.0000 - val_loss: 38140644.0000\n",
      "Epoch 94/100\n",
      "34/34 [==============================] - 0s 5ms/step - loss: 43703052.0000 - val_loss: 38013012.0000\n",
      "Epoch 95/100\n",
      "34/34 [==============================] - 0s 4ms/step - loss: 43641916.0000 - val_loss: 37924476.0000\n",
      "Epoch 96/100\n",
      "34/34 [==============================] - 0s 4ms/step - loss: 43565132.0000 - val_loss: 37762676.0000\n",
      "Epoch 97/100\n",
      "34/34 [==============================] - 0s 4ms/step - loss: 43476372.0000 - val_loss: 37666476.0000\n",
      "Epoch 98/100\n",
      "34/34 [==============================] - 0s 4ms/step - loss: 43434404.0000 - val_loss: 37565600.0000\n",
      "Epoch 99/100\n",
      "34/34 [==============================] - 0s 4ms/step - loss: 43341916.0000 - val_loss: 37479796.0000\n",
      "Epoch 100/100\n",
      "34/34 [==============================] - 0s 4ms/step - loss: 43284960.0000 - val_loss: 37475124.0000\n",
      "9/9 [==============================] - 0s 2ms/step - loss: 37475124.0000\n",
      "Mean Squared Error: 37475124.0\n"
     ]
    }
   ],
   "source": [
    "import tensorflow as tf\n",
    "from tensorflow import keras\n",
    "\n",
    "# Get the shape of the input data\n",
    "input_shape = X_df.shape[1]\n",
    "\n",
    "# Create the sequential model\n",
    "dl_model = keras.Sequential()\n",
    "\n",
    "# Add layers to the model\n",
    "dl_model.add(keras.layers.Dense(64, activation='relu', input_shape=(input_shape,)))\n",
    "dl_model.add(keras.layers.Dense(64, activation='relu'))\n",
    "dl_model.add(keras.layers.Dense(1))  # Output layer with single neuron\n",
    "\n",
    "# Compile the model\n",
    "dl_model.compile(loss='mean_squared_error', optimizer='adam')\n",
    "\n",
    "# Train the model\n",
    "dl_model.fit(X_train, y_train, batch_size=32, epochs=100, validation_data=(X_test, y_test))\n",
    "\n",
    "# Evaluate the model\n",
    "loss = dl_model.evaluate(X_test, y_test)\n",
    "print('Mean Squared Error:', loss)\n",
    "\n"
   ]
  },
  {
   "cell_type": "code",
   "execution_count": null,
   "id": "b079defa",
   "metadata": {},
   "outputs": [],
   "source": []
  },
  {
   "cell_type": "markdown",
   "id": "7d318546",
   "metadata": {},
   "source": [
    "Based on the performance metrics, Gradient Boosting appears to be a strong candidate for our final model selection. \n",
    "\n",
    "Mean Squared Error (MSE): The MSE value of 23,405,312.96 indicates that the average squared difference between the predicted and actual values is relatively low. Lower MSE values suggest that the model has better accuracy in predicting the insurance claim.\n",
    "\n",
    "R-squared: The R-squared value of 0.8376 indicates that approximately 83.76% of the variance in the dependent variable (insurance claim) can be explained by the independent variables used in the model. Higher R-squared values indicate a better fit of the model to the data.\n",
    "\n",
    "The gradient boosting model has a lower Mean Squared Error (MSE) compared to the deep learning model and the other models, it indicates that the gradient boosting model is performing better in terms of minimizing the prediction errors. Therefore, we are selecting the gradient boosting model as the final model"
   ]
  },
  {
   "cell_type": "markdown",
   "id": "fbd303ec",
   "metadata": {},
   "source": [
    "**Hyperparameter Tuning the gradient Boosting Model**\n",
    "\n",
    "Hyperparameter tuning allows us to find the optimal combination of hyperparameters for a given algorithm. Hyperparameters are parameters that are set prior to training the model and cannot be learned from the data. hyperparameter tuning allows us to fine-tune the model, improving its performance, generalization capabilities, and robustness, leading to better predictions and more reliable machine learning models."
   ]
  },
  {
   "cell_type": "code",
   "execution_count": 43,
   "id": "44ae0691",
   "metadata": {},
   "outputs": [
    {
     "name": "stdout",
     "output_type": "stream",
     "text": [
      "Best Hyperparameters: {'learning_rate': 0.05, 'max_depth': 3, 'min_samples_split': 2, 'n_estimators': 100}\n",
      "Best MSE Score: 28948087.222208142\n"
     ]
    }
   ],
   "source": [
    "from sklearn.model_selection import GridSearchCV\n",
    "\n",
    "# Define the parameter grid for hyperparameter tuning\n",
    "param_grid = {\n",
    "    'n_estimators': [100, 200, 300],  # Number of boosting stages\n",
    "    'learning_rate': [0.1, 0.05, 0.01],  # Learning rate\n",
    "    'max_depth': [3, 4, 5],  # Maximum depth of each decision tree\n",
    "    'min_samples_split': [2, 4, 6]  # Minimum number of samples required to split an internal node\n",
    "}\n",
    "\n",
    "# Create an instance of the Gradient Boosting regressor\n",
    "final_model = GradientBoostingRegressor()\n",
    "\n",
    "# Perform grid search cross-validation\n",
    "grid_search = GridSearchCV(final_model, param_grid, cv=5, scoring='neg_mean_squared_error')\n",
    "grid_search.fit(X_train, y_train)\n",
    "\n",
    "# Print the best hyperparameters and the corresponding MSE score\n",
    "print(\"Best Hyperparameters:\", grid_search.best_params_)\n",
    "print(\"Best MSE Score:\", -grid_search.best_score_)\n"
   ]
  },
  {
   "cell_type": "code",
   "execution_count": 44,
   "id": "dc5a9cd9",
   "metadata": {},
   "outputs": [
    {
     "name": "stdout",
     "output_type": "stream",
     "text": [
      "Mean Squared Error: 23427124.823301487\n",
      "R-squared: 0.8374616020941712\n"
     ]
    }
   ],
   "source": [
    "# Initialize the Gradient Boosting Regressor with the best hyperparameters\n",
    "final_model = GradientBoostingRegressor(learning_rate=0.05, max_depth=3, min_samples_split=6, n_estimators=100)\n",
    "\n",
    "# Fit the model to the training data\n",
    "final_model.fit(X_train, y_train)\n",
    "\n",
    "# Make predictions on the test set\n",
    "y_pred = final_model.predict(X_test)\n",
    "\n",
    "# Calculate mean squared error\n",
    "mse = mean_squared_error(y_test, y_pred)\n",
    "\n",
    "# Calculate R-squared score\n",
    "r2 = r2_score(y_test, y_pred)\n",
    "\n",
    "# Print the evaluation metrics\n",
    "print(\"Mean Squared Error:\", mse)\n",
    "print(\"R-squared:\", r2)"
   ]
  },
  {
   "cell_type": "markdown",
   "id": "57b76f93",
   "metadata": {},
   "source": [
    "# iNteprete\n",
    "\n",
    "Here we analyze the coefficients or feature importance of the chosen model to understand the impact of different variables on claim amounts. Interpret the model's predictions, identifying the demographic and contextual factors that significantly influence claim amounts. Validate the model's interpretations through domain knowledge and consultation with subject matter experts."
   ]
  },
  {
   "cell_type": "code",
   "execution_count": 45,
   "id": "b25a28ca",
   "metadata": {},
   "outputs": [
    {
     "data": {
      "image/png": "[encoded data removed]",
      "text/plain": [
       "<Figure size 1000x600 with 1 Axes>"
      ]
     },
     "metadata": {},
     "output_type": "display_data"
    }
   ],
   "source": [
    "# Get feature importances from the model\n",
    "feature_importance = final_model.feature_importances_\n",
    "\n",
    "# Get the names of the features\n",
    "feature_names = X_df.columns\n",
    "\n",
    "# Sort feature importances in descending order\n",
    "indices = np.argsort(feature_importance)[::-1]\n",
    "\n",
    "# Rearrange feature names accordingly\n",
    "sorted_feature_names = [feature_names[i] for i in indices]\n",
    "\n",
    "# Plot the feature importances\n",
    "plt.figure(figsize=(10, 6))\n",
    "plt.bar(range(len(feature_importance)), feature_importance[indices])\n",
    "plt.xticks(range(len(feature_importance)), sorted_feature_names, rotation='vertical')\n",
    "plt.xlabel('Features')\n",
    "plt.ylabel('Importance')\n",
    "plt.title('Gradient Boosting - Feature Importance')\n",
    "plt.tight_layout()\n",
    "plt.show()\n"
   ]
  },
  {
   "cell_type": "markdown",
   "id": "46abe8a7",
   "metadata": {},
   "source": [
    "**Intepretation of the Feature Importance**\n",
    "\n",
    "- 'smoker': This variable has the highest importance, indicating that whether a person is a smoker or not is a strong predictor of the insurance claim. Being a smoker may lead to higher insurance claims.\n",
    "\n",
    "- 'bmi': The body mass index (BMI) is an important factor in predicting the insurance claim. Higher BMI values may be correlated with higher claims, as obesity-related health conditions can contribute to increased medical expenses.\n",
    "\n",
    "- 'bloodpressure': Blood pressure measurements have some predictive power for the insurance claim. Abnormal blood pressure levels may be indicative of underlying health conditions that impact the claim.\n",
    "\n",
    "- 'region_northeast', 'region_southwest', 'region_southeast', 'region_northwest': These variables represent different regions. The model considers the region of residence as a factor in predicting the claim, suggesting that insurance claims may vary based on geographical location.\n",
    "\n",
    "- 'children': The number of children a person has is also considered in predicting the claim. Having more children may influence the claim due to associated medical expenses or family coverage considerations.\n",
    "\n",
    "- 'age': Age is a relevant factor in predicting the claim. Older individuals may have higher claims due to age-related health issues.\n",
    "\n",
    "- 'diabetic_Yes': The presence of diabetes is considered as a predictor. Individuals with diabetes may require additional medical care and treatment, leading to higher claims.\n",
    "\n",
    "- 'region_northwest': This variable represents another region, indicating that it has some importance in predicting the claim, similar to the other region variables.\n",
    "\n",
    "- 'diabetic_No': This variable represents the absence of diabetes. While not as significant as 'diabetic_Yes', it still contributes to predicting the claim.\n",
    "\n",
    "- 'gender_female' and 'gender_male': Gender is considered as a factor, although with relatively lower importance. The model suggests that gender may have some influence on the claim amount.\n",
    "\n",
    "These rankings indicate the relative importance of the variables in predicting the insurance claim based on the gradient boosting model. However, the importance does not imply causation, and the interpretation should be considered within the context of the model and our specific task at hand"
   ]
  },
  {
   "cell_type": "markdown",
   "id": "85e0f91c",
   "metadata": {},
   "source": [
    "In this insurance claim prediction project, I followed the OSEMN (Obtain, Scrub, Explore, Model, and iNterpret) framework to analyze the dataset and build a predictive model.\n",
    "\n",
    "First, I obtained the dataset and performed data scrubbing by handling missing values, checking for data integrity, and transforming variables if necessary.\n",
    "\n",
    "Next, I explored the data through descriptive statistics and visualizations to gain insights into the distributions, correlations, and patterns within the dataset. This helped me understand the relationships between variables and identify potential predictors of the insurance claim.\n",
    "\n",
    "For modeling, I preprocessed the data by encoding categorical variables using the one-hot encoder and standardizing numerical variables using the StandardScaler. This ensured that all variables were in a suitable format for the models.\n",
    "\n",
    "I employed various regression algorithms, starting with linear regression and then exploring more advanced techniques like gradient boosting and XGBoost. I evaluated each model using appropriate metrics such as mean squared error (MSE) and R-squared, selecting the best-performing model for further analysis.\n",
    "\n",
    "After selecting the gradient boosting model as the best performer, I performed hyperparameter tuning to optimize its performance further. This involved systematically exploring different combinations of hyperparameters using techniques like GridSearchCV.\n",
    "\n",
    "Throughout the project, I interpreted the results and made informed decisions based on statistical significance, domain knowledge, and evaluation metrics. I considered the relative importance of variables, such as smoking status, BMI, age, region, and diabetic status, in predicting the insurance claim.\n",
    "\n",
    "In the end, I achieved a well-performing model with a low MSE, indicating good predictive capability for the insurance claim. I also provided interpretations for the importance of variables and their impact on the claim amount.\n",
    "\n",
    "This project involved data preprocessing, exploratory data analysis, model building, evaluation, and interpretation. It aimed to understand the factors influencing insurance claims and develop a reliable predictive model for future claim estimation."
   ]
  },
  {
   "cell_type": "code",
   "execution_count": 47,
   "id": "215e23cc",
   "metadata": {},
   "outputs": [
    {
     "data": {
      "text/plain": [
       "array([6279.3911862])"
      ]
     },
     "execution_count": 47,
     "metadata": {},
     "output_type": "execute_result"
    }
   ],
   "source": [
    "final_model.predict([[0.0, 1.0, 0.0,1.0,0.0,0.0,1.0,0.0,1.0,0.0,0.082248,-1.219345,-0.278754,-0.912356]])"
   ]
  }
 ],
 "metadata": {
  "kernelspec": {
   "display_name": "Python 3 (ipykernel)",
   "language": "python",
   "name": "python3"
  },
  "language_info": {
   "codemirror_mode": {
    "name": "ipython",
    "version": 3
   },
   "file_extension": ".py",
   "mimetype": "text/x-python",
   "name": "python",
   "nbconvert_exporter": "python",
   "pygments_lexer": "ipython3",
   "version": "3.9.13"
  }
 },
 "nbformat": 4,
 "nbformat_minor": 5
}
